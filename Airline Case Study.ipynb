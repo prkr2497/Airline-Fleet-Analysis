{
 "cells": [
  {
   "cell_type": "markdown",
   "metadata": {},
   "source": [
    "## Airline Case Study\n",
    "\n",
    "For this case study, the tables have been stored in separate csv files as opposed to a single one. \n",
    "\n",
    "Let's load the libraries."
   ]
  },
  {
   "cell_type": "code",
   "execution_count": 1,
   "metadata": {},
   "outputs": [],
   "source": [
    "import numpy as np\n",
    "import pandas as pd\n",
    "\n",
    "import warnings\n",
    "warnings.filterwarnings('ignore')"
   ]
  },
  {
   "cell_type": "markdown",
   "metadata": {},
   "source": [
    "### PART A\n",
    "\n",
    "#### Loading the 'Operations' table and checking its info"
   ]
  },
  {
   "cell_type": "code",
   "execution_count": 2,
   "metadata": {},
   "outputs": [
    {
     "name": "stdout",
     "output_type": "stream",
     "text": [
      "<class 'pandas.core.frame.DataFrame'>\n",
      "RangeIndex: 26 entries, 0 to 25\n",
      "Data columns (total 14 columns):\n",
      " #   Column         Non-Null Count  Dtype \n",
      "---  ------         --------------  ----- \n",
      " 0   Aircraft_Name  26 non-null     object\n",
      " 1   Aircraft_Type  26 non-null     object\n",
      " 2   Jan-14         26 non-null     int64 \n",
      " 3   Feb-14         26 non-null     int64 \n",
      " 4   Mar-14         26 non-null     int64 \n",
      " 5   Apr-14         26 non-null     int64 \n",
      " 6   May-14         26 non-null     int64 \n",
      " 7   Jun-14         26 non-null     int64 \n",
      " 8   Jul-14         26 non-null     int64 \n",
      " 9   Aug-14         26 non-null     int64 \n",
      " 10  Sep-14         26 non-null     int64 \n",
      " 11  Oct-14         26 non-null     int64 \n",
      " 12  Nov-14         26 non-null     int64 \n",
      " 13  Dec-14         26 non-null     int64 \n",
      "dtypes: int64(12), object(2)\n",
      "memory usage: 3.0+ KB\n"
     ]
    }
   ],
   "source": [
    "operations = pd.read_csv('Operations.csv')\n",
    "operations.info()"
   ]
  },
  {
   "cell_type": "code",
   "execution_count": 3,
   "metadata": {},
   "outputs": [
    {
     "data": {
      "text/html": [
       "<div>\n",
       "<style scoped>\n",
       "    .dataframe tbody tr th:only-of-type {\n",
       "        vertical-align: middle;\n",
       "    }\n",
       "\n",
       "    .dataframe tbody tr th {\n",
       "        vertical-align: top;\n",
       "    }\n",
       "\n",
       "    .dataframe thead th {\n",
       "        text-align: right;\n",
       "    }\n",
       "</style>\n",
       "<table border=\"1\" class=\"dataframe\">\n",
       "  <thead>\n",
       "    <tr style=\"text-align: right;\">\n",
       "      <th></th>\n",
       "      <th>Aircraft_Name</th>\n",
       "      <th>Aircraft_Type</th>\n",
       "      <th>Jan-14</th>\n",
       "      <th>Feb-14</th>\n",
       "      <th>Mar-14</th>\n",
       "      <th>Apr-14</th>\n",
       "      <th>May-14</th>\n",
       "      <th>Jun-14</th>\n",
       "      <th>Jul-14</th>\n",
       "      <th>Aug-14</th>\n",
       "      <th>Sep-14</th>\n",
       "      <th>Oct-14</th>\n",
       "      <th>Nov-14</th>\n",
       "      <th>Dec-14</th>\n",
       "    </tr>\n",
       "  </thead>\n",
       "  <tbody>\n",
       "    <tr>\n",
       "      <th>0</th>\n",
       "      <td>A</td>\n",
       "      <td>A320</td>\n",
       "      <td>250</td>\n",
       "      <td>251</td>\n",
       "      <td>248</td>\n",
       "      <td>253</td>\n",
       "      <td>243</td>\n",
       "      <td>245</td>\n",
       "      <td>248</td>\n",
       "      <td>246</td>\n",
       "      <td>256</td>\n",
       "      <td>256</td>\n",
       "      <td>251</td>\n",
       "      <td>252</td>\n",
       "    </tr>\n",
       "    <tr>\n",
       "      <th>1</th>\n",
       "      <td>B</td>\n",
       "      <td>A330</td>\n",
       "      <td>300</td>\n",
       "      <td>301</td>\n",
       "      <td>298</td>\n",
       "      <td>303</td>\n",
       "      <td>293</td>\n",
       "      <td>295</td>\n",
       "      <td>298</td>\n",
       "      <td>296</td>\n",
       "      <td>306</td>\n",
       "      <td>306</td>\n",
       "      <td>301</td>\n",
       "      <td>302</td>\n",
       "    </tr>\n",
       "    <tr>\n",
       "      <th>2</th>\n",
       "      <td>C</td>\n",
       "      <td>B737</td>\n",
       "      <td>245</td>\n",
       "      <td>246</td>\n",
       "      <td>243</td>\n",
       "      <td>248</td>\n",
       "      <td>238</td>\n",
       "      <td>240</td>\n",
       "      <td>243</td>\n",
       "      <td>241</td>\n",
       "      <td>251</td>\n",
       "      <td>251</td>\n",
       "      <td>246</td>\n",
       "      <td>247</td>\n",
       "    </tr>\n",
       "    <tr>\n",
       "      <th>3</th>\n",
       "      <td>D</td>\n",
       "      <td>B747</td>\n",
       "      <td>310</td>\n",
       "      <td>311</td>\n",
       "      <td>308</td>\n",
       "      <td>313</td>\n",
       "      <td>303</td>\n",
       "      <td>305</td>\n",
       "      <td>308</td>\n",
       "      <td>306</td>\n",
       "      <td>316</td>\n",
       "      <td>316</td>\n",
       "      <td>311</td>\n",
       "      <td>312</td>\n",
       "    </tr>\n",
       "    <tr>\n",
       "      <th>4</th>\n",
       "      <td>E</td>\n",
       "      <td>Q400</td>\n",
       "      <td>200</td>\n",
       "      <td>201</td>\n",
       "      <td>198</td>\n",
       "      <td>203</td>\n",
       "      <td>193</td>\n",
       "      <td>195</td>\n",
       "      <td>198</td>\n",
       "      <td>196</td>\n",
       "      <td>206</td>\n",
       "      <td>206</td>\n",
       "      <td>201</td>\n",
       "      <td>202</td>\n",
       "    </tr>\n",
       "  </tbody>\n",
       "</table>\n",
       "</div>"
      ],
      "text/plain": [
       "  Aircraft_Name Aircraft_Type  Jan-14  Feb-14  Mar-14  Apr-14  May-14  Jun-14  \\\n",
       "0            A           A320     250     251     248     253     243     245   \n",
       "1             B          A330     300     301     298     303     293     295   \n",
       "2             C          B737     245     246     243     248     238     240   \n",
       "3             D          B747     310     311     308     313     303     305   \n",
       "4             E          Q400     200     201     198     203     193     195   \n",
       "\n",
       "   Jul-14  Aug-14  Sep-14  Oct-14  Nov-14  Dec-14  \n",
       "0     248     246     256     256     251     252  \n",
       "1     298     296     306     306     301     302  \n",
       "2     243     241     251     251     246     247  \n",
       "3     308     306     316     316     311     312  \n",
       "4     198     196     206     206     201     202  "
      ]
     },
     "execution_count": 3,
     "metadata": {},
     "output_type": "execute_result"
    }
   ],
   "source": [
    "#Checking the head of the table\n",
    "operations.head()"
   ]
  },
  {
   "cell_type": "markdown",
   "metadata": {},
   "source": [
    "#### Summing up the hours for all the aircrafts"
   ]
  },
  {
   "cell_type": "code",
   "execution_count": 4,
   "metadata": {},
   "outputs": [],
   "source": [
    "operations['Total_Hours'] = operations.drop(['Aircraft_Type', 'Aircraft_Name'], axis = 1).sum(axis=1)"
   ]
  },
  {
   "cell_type": "code",
   "execution_count": 5,
   "metadata": {},
   "outputs": [
    {
     "data": {
      "text/html": [
       "<div>\n",
       "<style scoped>\n",
       "    .dataframe tbody tr th:only-of-type {\n",
       "        vertical-align: middle;\n",
       "    }\n",
       "\n",
       "    .dataframe tbody tr th {\n",
       "        vertical-align: top;\n",
       "    }\n",
       "\n",
       "    .dataframe thead th {\n",
       "        text-align: right;\n",
       "    }\n",
       "</style>\n",
       "<table border=\"1\" class=\"dataframe\">\n",
       "  <thead>\n",
       "    <tr style=\"text-align: right;\">\n",
       "      <th></th>\n",
       "      <th>Aircraft_Name</th>\n",
       "      <th>Aircraft_Type</th>\n",
       "      <th>Jan-14</th>\n",
       "      <th>Feb-14</th>\n",
       "      <th>Mar-14</th>\n",
       "      <th>Apr-14</th>\n",
       "      <th>May-14</th>\n",
       "      <th>Jun-14</th>\n",
       "      <th>Jul-14</th>\n",
       "      <th>Aug-14</th>\n",
       "      <th>Sep-14</th>\n",
       "      <th>Oct-14</th>\n",
       "      <th>Nov-14</th>\n",
       "      <th>Dec-14</th>\n",
       "      <th>Total_Hours</th>\n",
       "    </tr>\n",
       "  </thead>\n",
       "  <tbody>\n",
       "    <tr>\n",
       "      <th>0</th>\n",
       "      <td>A</td>\n",
       "      <td>A320</td>\n",
       "      <td>250</td>\n",
       "      <td>251</td>\n",
       "      <td>248</td>\n",
       "      <td>253</td>\n",
       "      <td>243</td>\n",
       "      <td>245</td>\n",
       "      <td>248</td>\n",
       "      <td>246</td>\n",
       "      <td>256</td>\n",
       "      <td>256</td>\n",
       "      <td>251</td>\n",
       "      <td>252</td>\n",
       "      <td>2999</td>\n",
       "    </tr>\n",
       "    <tr>\n",
       "      <th>1</th>\n",
       "      <td>B</td>\n",
       "      <td>A330</td>\n",
       "      <td>300</td>\n",
       "      <td>301</td>\n",
       "      <td>298</td>\n",
       "      <td>303</td>\n",
       "      <td>293</td>\n",
       "      <td>295</td>\n",
       "      <td>298</td>\n",
       "      <td>296</td>\n",
       "      <td>306</td>\n",
       "      <td>306</td>\n",
       "      <td>301</td>\n",
       "      <td>302</td>\n",
       "      <td>3599</td>\n",
       "    </tr>\n",
       "    <tr>\n",
       "      <th>2</th>\n",
       "      <td>C</td>\n",
       "      <td>B737</td>\n",
       "      <td>245</td>\n",
       "      <td>246</td>\n",
       "      <td>243</td>\n",
       "      <td>248</td>\n",
       "      <td>238</td>\n",
       "      <td>240</td>\n",
       "      <td>243</td>\n",
       "      <td>241</td>\n",
       "      <td>251</td>\n",
       "      <td>251</td>\n",
       "      <td>246</td>\n",
       "      <td>247</td>\n",
       "      <td>2939</td>\n",
       "    </tr>\n",
       "    <tr>\n",
       "      <th>3</th>\n",
       "      <td>D</td>\n",
       "      <td>B747</td>\n",
       "      <td>310</td>\n",
       "      <td>311</td>\n",
       "      <td>308</td>\n",
       "      <td>313</td>\n",
       "      <td>303</td>\n",
       "      <td>305</td>\n",
       "      <td>308</td>\n",
       "      <td>306</td>\n",
       "      <td>316</td>\n",
       "      <td>316</td>\n",
       "      <td>311</td>\n",
       "      <td>312</td>\n",
       "      <td>3719</td>\n",
       "    </tr>\n",
       "    <tr>\n",
       "      <th>4</th>\n",
       "      <td>E</td>\n",
       "      <td>Q400</td>\n",
       "      <td>200</td>\n",
       "      <td>201</td>\n",
       "      <td>198</td>\n",
       "      <td>203</td>\n",
       "      <td>193</td>\n",
       "      <td>195</td>\n",
       "      <td>198</td>\n",
       "      <td>196</td>\n",
       "      <td>206</td>\n",
       "      <td>206</td>\n",
       "      <td>201</td>\n",
       "      <td>202</td>\n",
       "      <td>2399</td>\n",
       "    </tr>\n",
       "  </tbody>\n",
       "</table>\n",
       "</div>"
      ],
      "text/plain": [
       "  Aircraft_Name Aircraft_Type  Jan-14  Feb-14  Mar-14  Apr-14  May-14  Jun-14  \\\n",
       "0            A           A320     250     251     248     253     243     245   \n",
       "1             B          A330     300     301     298     303     293     295   \n",
       "2             C          B737     245     246     243     248     238     240   \n",
       "3             D          B747     310     311     308     313     303     305   \n",
       "4             E          Q400     200     201     198     203     193     195   \n",
       "\n",
       "   Jul-14  Aug-14  Sep-14  Oct-14  Nov-14  Dec-14  Total_Hours  \n",
       "0     248     246     256     256     251     252         2999  \n",
       "1     298     296     306     306     301     302         3599  \n",
       "2     243     241     251     251     246     247         2939  \n",
       "3     308     306     316     316     311     312         3719  \n",
       "4     198     196     206     206     201     202         2399  "
      ]
     },
     "execution_count": 5,
     "metadata": {},
     "output_type": "execute_result"
    }
   ],
   "source": [
    "operations.head()"
   ]
  },
  {
   "cell_type": "markdown",
   "metadata": {},
   "source": [
    "#### Dropping the unrequired columns"
   ]
  },
  {
   "cell_type": "code",
   "execution_count": 6,
   "metadata": {},
   "outputs": [
    {
     "data": {
      "text/html": [
       "<div>\n",
       "<style scoped>\n",
       "    .dataframe tbody tr th:only-of-type {\n",
       "        vertical-align: middle;\n",
       "    }\n",
       "\n",
       "    .dataframe tbody tr th {\n",
       "        vertical-align: top;\n",
       "    }\n",
       "\n",
       "    .dataframe thead th {\n",
       "        text-align: right;\n",
       "    }\n",
       "</style>\n",
       "<table border=\"1\" class=\"dataframe\">\n",
       "  <thead>\n",
       "    <tr style=\"text-align: right;\">\n",
       "      <th></th>\n",
       "      <th>Aircraft_Name</th>\n",
       "      <th>Aircraft_Type</th>\n",
       "      <th>Total_Hours</th>\n",
       "    </tr>\n",
       "  </thead>\n",
       "  <tbody>\n",
       "    <tr>\n",
       "      <th>0</th>\n",
       "      <td>A</td>\n",
       "      <td>A320</td>\n",
       "      <td>2999</td>\n",
       "    </tr>\n",
       "    <tr>\n",
       "      <th>1</th>\n",
       "      <td>B</td>\n",
       "      <td>A330</td>\n",
       "      <td>3599</td>\n",
       "    </tr>\n",
       "    <tr>\n",
       "      <th>2</th>\n",
       "      <td>C</td>\n",
       "      <td>B737</td>\n",
       "      <td>2939</td>\n",
       "    </tr>\n",
       "    <tr>\n",
       "      <th>3</th>\n",
       "      <td>D</td>\n",
       "      <td>B747</td>\n",
       "      <td>3719</td>\n",
       "    </tr>\n",
       "    <tr>\n",
       "      <th>4</th>\n",
       "      <td>E</td>\n",
       "      <td>Q400</td>\n",
       "      <td>2399</td>\n",
       "    </tr>\n",
       "  </tbody>\n",
       "</table>\n",
       "</div>"
      ],
      "text/plain": [
       "  Aircraft_Name Aircraft_Type  Total_Hours\n",
       "0            A           A320         2999\n",
       "1             B          A330         3599\n",
       "2             C          B737         2939\n",
       "3             D          B747         3719\n",
       "4             E          Q400         2399"
      ]
     },
     "execution_count": 6,
     "metadata": {},
     "output_type": "execute_result"
    }
   ],
   "source": [
    "operations = operations[['Aircraft_Name', 'Aircraft_Type', 'Total_Hours']]\n",
    "\n",
    "operations.head()"
   ]
  },
  {
   "cell_type": "markdown",
   "metadata": {},
   "source": [
    "#### Loading the 'AC Characteristics' table"
   ]
  },
  {
   "cell_type": "code",
   "execution_count": 7,
   "metadata": {},
   "outputs": [
    {
     "name": "stdout",
     "output_type": "stream",
     "text": [
      "<class 'pandas.core.frame.DataFrame'>\n",
      "RangeIndex: 6 entries, 0 to 5\n",
      "Data columns (total 5 columns):\n",
      " #   Column                 Non-Null Count  Dtype \n",
      "---  ------                 --------------  ----- \n",
      " 0   Aircraft_Type          6 non-null      object\n",
      " 1   Range_in_Km            6 non-null      object\n",
      " 2   Avg_speed_in_Kph       6 non-null      int64 \n",
      " 3   No_of_seats            6 non-null      int64 \n",
      " 4   Costs_per_flight_hour  6 non-null      object\n",
      "dtypes: int64(2), object(3)\n",
      "memory usage: 368.0+ bytes\n"
     ]
    }
   ],
   "source": [
    "char_data = pd.read_csv('AC_characteristics.csv')\n",
    "char_data.info()"
   ]
  },
  {
   "cell_type": "code",
   "execution_count": 8,
   "metadata": {},
   "outputs": [
    {
     "data": {
      "text/html": [
       "<div>\n",
       "<style scoped>\n",
       "    .dataframe tbody tr th:only-of-type {\n",
       "        vertical-align: middle;\n",
       "    }\n",
       "\n",
       "    .dataframe tbody tr th {\n",
       "        vertical-align: top;\n",
       "    }\n",
       "\n",
       "    .dataframe thead th {\n",
       "        text-align: right;\n",
       "    }\n",
       "</style>\n",
       "<table border=\"1\" class=\"dataframe\">\n",
       "  <thead>\n",
       "    <tr style=\"text-align: right;\">\n",
       "      <th></th>\n",
       "      <th>Aircraft_Type</th>\n",
       "      <th>Range_in_Km</th>\n",
       "      <th>Avg_speed_in_Kph</th>\n",
       "      <th>No_of_seats</th>\n",
       "      <th>Costs_per_flight_hour</th>\n",
       "    </tr>\n",
       "  </thead>\n",
       "  <tbody>\n",
       "    <tr>\n",
       "      <th>0</th>\n",
       "      <td>A320</td>\n",
       "      <td>5,000</td>\n",
       "      <td>800</td>\n",
       "      <td>150</td>\n",
       "      <td>5,000</td>\n",
       "    </tr>\n",
       "    <tr>\n",
       "      <th>1</th>\n",
       "      <td>A330</td>\n",
       "      <td>8,000</td>\n",
       "      <td>900</td>\n",
       "      <td>250</td>\n",
       "      <td>7,500</td>\n",
       "    </tr>\n",
       "    <tr>\n",
       "      <th>2</th>\n",
       "      <td>B737</td>\n",
       "      <td>5,000</td>\n",
       "      <td>800</td>\n",
       "      <td>150</td>\n",
       "      <td>5,100</td>\n",
       "    </tr>\n",
       "  </tbody>\n",
       "</table>\n",
       "</div>"
      ],
      "text/plain": [
       "  Aircraft_Type Range_in_Km  Avg_speed_in_Kph  No_of_seats  \\\n",
       "0          A320       5,000               800          150   \n",
       "1          A330       8,000               900          250   \n",
       "2          B737       5,000               800          150   \n",
       "\n",
       "  Costs_per_flight_hour  \n",
       "0                 5,000  \n",
       "1                 7,500  \n",
       "2                 5,100  "
      ]
     },
     "execution_count": 8,
     "metadata": {},
     "output_type": "execute_result"
    }
   ],
   "source": [
    "char_data.head(3)"
   ]
  },
  {
   "cell_type": "markdown",
   "metadata": {},
   "source": [
    "#### Modifying the 'Char_data' dataframe\n",
    "\n",
    "We notice that the columns _Range_in_Km_ and _Costs_per_flight_hour_ are of the datatype _Object_ as opposed to _int_. This will create problems later on when we will have to do mathematical operations on them. Hence we need to fix this."
   ]
  },
  {
   "cell_type": "code",
   "execution_count": 9,
   "metadata": {},
   "outputs": [],
   "source": [
    "# Make a list of the columns\n",
    "collist = ['Range_in_Km','Costs_per_flight_hour']\n",
    "\n",
    "# A for loop to replace all the commas from the values\n",
    "for col in collist:    \n",
    "    char_data[col] = char_data[col].str.replace(',','')\n",
    "\n",
    "\n",
    "# Making a dictionary which will be passed to the 'astype' method to change the datatype\n",
    "convert_dict = {}\n",
    "\n",
    "for col in collist:\n",
    "    convert_dict[col] = int\n",
    "    \n",
    "char_data = char_data.astype(convert_dict)"
   ]
  },
  {
   "cell_type": "markdown",
   "metadata": {},
   "source": [
    "Now let's check the info again."
   ]
  },
  {
   "cell_type": "code",
   "execution_count": 10,
   "metadata": {},
   "outputs": [
    {
     "name": "stdout",
     "output_type": "stream",
     "text": [
      "<class 'pandas.core.frame.DataFrame'>\n",
      "RangeIndex: 6 entries, 0 to 5\n",
      "Data columns (total 5 columns):\n",
      " #   Column                 Non-Null Count  Dtype \n",
      "---  ------                 --------------  ----- \n",
      " 0   Aircraft_Type          6 non-null      object\n",
      " 1   Range_in_Km            6 non-null      int32 \n",
      " 2   Avg_speed_in_Kph       6 non-null      int64 \n",
      " 3   No_of_seats            6 non-null      int64 \n",
      " 4   Costs_per_flight_hour  6 non-null      int32 \n",
      "dtypes: int32(2), int64(2), object(1)\n",
      "memory usage: 320.0+ bytes\n"
     ]
    }
   ],
   "source": [
    "char_data.info()"
   ]
  },
  {
   "cell_type": "markdown",
   "metadata": {},
   "source": [
    "---\n",
    "\n",
    "#### Finding the total flying cost for all the different aircrafts\n",
    "\n",
    "By calling the 'value_counts()' method on the 'Aircraft_Type' column of the operatons dataframe, we determine the no. of times the distinct aircraft type appear in the column."
   ]
  },
  {
   "cell_type": "code",
   "execution_count": 11,
   "metadata": {},
   "outputs": [
    {
     "data": {
      "text/plain": [
       "A330     6\n",
       "A320     5\n",
       "B737     4\n",
       "Q400     4\n",
       "ATR72    4\n",
       "B747     3\n",
       "Name: Aircraft_Type, dtype: int64"
      ]
     },
     "execution_count": 11,
     "metadata": {},
     "output_type": "execute_result"
    }
   ],
   "source": [
    "operations['Aircraft_Type'].value_counts()"
   ]
  },
  {
   "cell_type": "markdown",
   "metadata": {},
   "source": [
    "Since we want the total no. of hours flown by each aircraft type and not each distict aircraft, we have to use the 'groupby' method on this dataframe. This method will return a generator which slices the dataframe into different dataframes, for each aircraft type. "
   ]
  },
  {
   "cell_type": "code",
   "execution_count": 12,
   "metadata": {},
   "outputs": [],
   "source": [
    "g = operations.groupby('Aircraft_Type')"
   ]
  },
  {
   "cell_type": "code",
   "execution_count": 13,
   "metadata": {},
   "outputs": [
    {
     "name": "stdout",
     "output_type": "stream",
     "text": [
      "A320\n",
      "\n",
      "\n",
      "   Aircraft_Name Aircraft_Type  Total_Hours\n",
      "0             A           A320         2999\n",
      "11             L          A320         2939\n",
      "14             O          A320         2999\n",
      "15             P          A320         2939\n",
      "23             X          A320         2999\n",
      "\n",
      "\n",
      "A330\n",
      "\n",
      "\n",
      "   Aircraft_Name Aircraft_Type  Total_Hours\n",
      "1              B          A330         3599\n",
      "9              J          A330         3719\n",
      "12             M          A330         3599\n",
      "18             S          A330         3719\n",
      "19             T          A330         3599\n",
      "24             Y          A330         3599\n",
      "\n",
      "\n",
      "ATR72\n",
      "\n",
      "\n",
      "   Aircraft_Name Aircraft_Type  Total_Hours\n",
      "5              F         ATR72         2339\n",
      "8             I          ATR72         2399\n",
      "17             R         ATR72         2399\n",
      "22             W         ATR72         2399\n",
      "\n",
      "\n",
      "B737\n",
      "\n",
      "\n",
      "   Aircraft_Name Aircraft_Type  Total_Hours\n",
      "2              C          B737         2939\n",
      "10             K          B737         2999\n",
      "13             N          B737         2939\n",
      "25             Z          B737         2939\n",
      "\n",
      "\n",
      "B747\n",
      "\n",
      "\n",
      "   Aircraft_Name Aircraft_Type  Total_Hours\n",
      "3              D          B747         3719\n",
      "6              G          B747         3599\n",
      "20             U          B747         3719\n",
      "\n",
      "\n",
      "Q400\n",
      "\n",
      "\n",
      "   Aircraft_Name Aircraft_Type  Total_Hours\n",
      "4              E          Q400         2399\n",
      "7              H          Q400         2339\n",
      "16             Q          Q400         2339\n",
      "21             V          Q400         2399\n",
      "\n",
      "\n"
     ]
    }
   ],
   "source": [
    "# Printing each dataframe stored in the generator\n",
    "for ac,ac_df in g:\n",
    "    print(ac)\n",
    "    print('\\n')\n",
    "    print(ac_df)\n",
    "    print('\\n')"
   ]
  },
  {
   "cell_type": "code",
   "execution_count": 14,
   "metadata": {},
   "outputs": [
    {
     "data": {
      "text/html": [
       "<div>\n",
       "<style scoped>\n",
       "    .dataframe tbody tr th:only-of-type {\n",
       "        vertical-align: middle;\n",
       "    }\n",
       "\n",
       "    .dataframe tbody tr th {\n",
       "        vertical-align: top;\n",
       "    }\n",
       "\n",
       "    .dataframe thead th {\n",
       "        text-align: right;\n",
       "    }\n",
       "</style>\n",
       "<table border=\"1\" class=\"dataframe\">\n",
       "  <thead>\n",
       "    <tr style=\"text-align: right;\">\n",
       "      <th></th>\n",
       "      <th>Total_Hours</th>\n",
       "    </tr>\n",
       "    <tr>\n",
       "      <th>Aircraft_Type</th>\n",
       "      <th></th>\n",
       "    </tr>\n",
       "  </thead>\n",
       "  <tbody>\n",
       "    <tr>\n",
       "      <th>A320</th>\n",
       "      <td>14875</td>\n",
       "    </tr>\n",
       "    <tr>\n",
       "      <th>A330</th>\n",
       "      <td>21834</td>\n",
       "    </tr>\n",
       "    <tr>\n",
       "      <th>ATR72</th>\n",
       "      <td>9536</td>\n",
       "    </tr>\n",
       "    <tr>\n",
       "      <th>B737</th>\n",
       "      <td>11816</td>\n",
       "    </tr>\n",
       "    <tr>\n",
       "      <th>B747</th>\n",
       "      <td>11037</td>\n",
       "    </tr>\n",
       "    <tr>\n",
       "      <th>Q400</th>\n",
       "      <td>9476</td>\n",
       "    </tr>\n",
       "  </tbody>\n",
       "</table>\n",
       "</div>"
      ],
      "text/plain": [
       "               Total_Hours\n",
       "Aircraft_Type             \n",
       "A320                 14875\n",
       "A330                 21834\n",
       "ATR72                 9536\n",
       "B737                 11816\n",
       "B747                 11037\n",
       "Q400                  9476"
      ]
     },
     "execution_count": 14,
     "metadata": {},
     "output_type": "execute_result"
    }
   ],
   "source": [
    "# Finally we will use the sum() method on this groupby generator \n",
    "# to find the total no of hours flown by each aircraft type\n",
    "\n",
    "ac_tt_hrs = g.sum()\n",
    "ac_tt_hrs"
   ]
  },
  {
   "cell_type": "markdown",
   "metadata": {},
   "source": [
    "\n",
    "#### Joining the above dataframe with 'char_data' on the column 'Aircraft_Type' to create the 'aircraft_info_df' dataframe"
   ]
  },
  {
   "cell_type": "code",
   "execution_count": 15,
   "metadata": {},
   "outputs": [
    {
     "data": {
      "text/html": [
       "<div>\n",
       "<style scoped>\n",
       "    .dataframe tbody tr th:only-of-type {\n",
       "        vertical-align: middle;\n",
       "    }\n",
       "\n",
       "    .dataframe tbody tr th {\n",
       "        vertical-align: top;\n",
       "    }\n",
       "\n",
       "    .dataframe thead th {\n",
       "        text-align: right;\n",
       "    }\n",
       "</style>\n",
       "<table border=\"1\" class=\"dataframe\">\n",
       "  <thead>\n",
       "    <tr style=\"text-align: right;\">\n",
       "      <th></th>\n",
       "      <th>Aircraft_Type</th>\n",
       "      <th>Range_in_Km</th>\n",
       "      <th>Avg_speed_in_Kph</th>\n",
       "      <th>No_of_seats</th>\n",
       "      <th>Costs_per_flight_hour</th>\n",
       "      <th>Total_Hours</th>\n",
       "    </tr>\n",
       "  </thead>\n",
       "  <tbody>\n",
       "    <tr>\n",
       "      <th>0</th>\n",
       "      <td>A320</td>\n",
       "      <td>5000</td>\n",
       "      <td>800</td>\n",
       "      <td>150</td>\n",
       "      <td>5000</td>\n",
       "      <td>14875</td>\n",
       "    </tr>\n",
       "    <tr>\n",
       "      <th>1</th>\n",
       "      <td>A330</td>\n",
       "      <td>8000</td>\n",
       "      <td>900</td>\n",
       "      <td>250</td>\n",
       "      <td>7500</td>\n",
       "      <td>21834</td>\n",
       "    </tr>\n",
       "    <tr>\n",
       "      <th>2</th>\n",
       "      <td>B737</td>\n",
       "      <td>5000</td>\n",
       "      <td>800</td>\n",
       "      <td>150</td>\n",
       "      <td>5100</td>\n",
       "      <td>11816</td>\n",
       "    </tr>\n",
       "    <tr>\n",
       "      <th>3</th>\n",
       "      <td>B747</td>\n",
       "      <td>10000</td>\n",
       "      <td>900</td>\n",
       "      <td>350</td>\n",
       "      <td>12000</td>\n",
       "      <td>11037</td>\n",
       "    </tr>\n",
       "    <tr>\n",
       "      <th>4</th>\n",
       "      <td>Q400</td>\n",
       "      <td>1500</td>\n",
       "      <td>750</td>\n",
       "      <td>90</td>\n",
       "      <td>3500</td>\n",
       "      <td>9476</td>\n",
       "    </tr>\n",
       "    <tr>\n",
       "      <th>5</th>\n",
       "      <td>ATR72</td>\n",
       "      <td>1000</td>\n",
       "      <td>650</td>\n",
       "      <td>75</td>\n",
       "      <td>2750</td>\n",
       "      <td>9536</td>\n",
       "    </tr>\n",
       "  </tbody>\n",
       "</table>\n",
       "</div>"
      ],
      "text/plain": [
       "  Aircraft_Type  Range_in_Km  Avg_speed_in_Kph  No_of_seats  \\\n",
       "0          A320         5000               800          150   \n",
       "1          A330         8000               900          250   \n",
       "2          B737         5000               800          150   \n",
       "3          B747        10000               900          350   \n",
       "4          Q400         1500               750           90   \n",
       "5         ATR72         1000               650           75   \n",
       "\n",
       "   Costs_per_flight_hour  Total_Hours  \n",
       "0                   5000        14875  \n",
       "1                   7500        21834  \n",
       "2                   5100        11816  \n",
       "3                  12000        11037  \n",
       "4                   3500         9476  \n",
       "5                   2750         9536  "
      ]
     },
     "execution_count": 15,
     "metadata": {},
     "output_type": "execute_result"
    }
   ],
   "source": [
    "aircraft_info_df = char_data.join(ac_tt_hrs, on='Aircraft_Type')\n",
    "aircraft_info_df"
   ]
  },
  {
   "cell_type": "markdown",
   "metadata": {},
   "source": [
    "Let's rename the column **Costs_per_flight_hour** to **Cost/flight_hr** for simplicity"
   ]
  },
  {
   "cell_type": "code",
   "execution_count": 16,
   "metadata": {},
   "outputs": [
    {
     "data": {
      "text/html": [
       "<div>\n",
       "<style scoped>\n",
       "    .dataframe tbody tr th:only-of-type {\n",
       "        vertical-align: middle;\n",
       "    }\n",
       "\n",
       "    .dataframe tbody tr th {\n",
       "        vertical-align: top;\n",
       "    }\n",
       "\n",
       "    .dataframe thead th {\n",
       "        text-align: right;\n",
       "    }\n",
       "</style>\n",
       "<table border=\"1\" class=\"dataframe\">\n",
       "  <thead>\n",
       "    <tr style=\"text-align: right;\">\n",
       "      <th></th>\n",
       "      <th>Aircraft_Type</th>\n",
       "      <th>Range_in_Km</th>\n",
       "      <th>Avg_speed_in_Kph</th>\n",
       "      <th>No_of_seats</th>\n",
       "      <th>Cost/flight_hr</th>\n",
       "      <th>Total_Hours</th>\n",
       "    </tr>\n",
       "  </thead>\n",
       "  <tbody>\n",
       "    <tr>\n",
       "      <th>0</th>\n",
       "      <td>A320</td>\n",
       "      <td>5000</td>\n",
       "      <td>800</td>\n",
       "      <td>150</td>\n",
       "      <td>5000</td>\n",
       "      <td>14875</td>\n",
       "    </tr>\n",
       "    <tr>\n",
       "      <th>1</th>\n",
       "      <td>A330</td>\n",
       "      <td>8000</td>\n",
       "      <td>900</td>\n",
       "      <td>250</td>\n",
       "      <td>7500</td>\n",
       "      <td>21834</td>\n",
       "    </tr>\n",
       "    <tr>\n",
       "      <th>2</th>\n",
       "      <td>B737</td>\n",
       "      <td>5000</td>\n",
       "      <td>800</td>\n",
       "      <td>150</td>\n",
       "      <td>5100</td>\n",
       "      <td>11816</td>\n",
       "    </tr>\n",
       "    <tr>\n",
       "      <th>3</th>\n",
       "      <td>B747</td>\n",
       "      <td>10000</td>\n",
       "      <td>900</td>\n",
       "      <td>350</td>\n",
       "      <td>12000</td>\n",
       "      <td>11037</td>\n",
       "    </tr>\n",
       "    <tr>\n",
       "      <th>4</th>\n",
       "      <td>Q400</td>\n",
       "      <td>1500</td>\n",
       "      <td>750</td>\n",
       "      <td>90</td>\n",
       "      <td>3500</td>\n",
       "      <td>9476</td>\n",
       "    </tr>\n",
       "    <tr>\n",
       "      <th>5</th>\n",
       "      <td>ATR72</td>\n",
       "      <td>1000</td>\n",
       "      <td>650</td>\n",
       "      <td>75</td>\n",
       "      <td>2750</td>\n",
       "      <td>9536</td>\n",
       "    </tr>\n",
       "  </tbody>\n",
       "</table>\n",
       "</div>"
      ],
      "text/plain": [
       "  Aircraft_Type  Range_in_Km  Avg_speed_in_Kph  No_of_seats  Cost/flight_hr  \\\n",
       "0          A320         5000               800          150            5000   \n",
       "1          A330         8000               900          250            7500   \n",
       "2          B737         5000               800          150            5100   \n",
       "3          B747        10000               900          350           12000   \n",
       "4          Q400         1500               750           90            3500   \n",
       "5         ATR72         1000               650           75            2750   \n",
       "\n",
       "   Total_Hours  \n",
       "0        14875  \n",
       "1        21834  \n",
       "2        11816  \n",
       "3        11037  \n",
       "4         9476  \n",
       "5         9536  "
      ]
     },
     "execution_count": 16,
     "metadata": {},
     "output_type": "execute_result"
    }
   ],
   "source": [
    "aircraft_info_df.rename(columns={'Costs_per_flight_hour':'Cost/flight_hr'}, inplace=True)\n",
    "aircraft_info_df"
   ]
  },
  {
   "cell_type": "markdown",
   "metadata": {},
   "source": [
    "#### Now, we will multiply the _Cost/flight_hr_ and _Hours_Flown_ columns to generate a new column _Total_cost_ indicating the total cost of flying each aircraft type for the year"
   ]
  },
  {
   "cell_type": "code",
   "execution_count": 17,
   "metadata": {},
   "outputs": [],
   "source": [
    "aircraft_info_df['Total_cost'] = aircraft_info_df['Cost/flight_hr'] * aircraft_info_df['Total_Hours']"
   ]
  },
  {
   "cell_type": "code",
   "execution_count": 18,
   "metadata": {},
   "outputs": [
    {
     "data": {
      "text/html": [
       "<div>\n",
       "<style scoped>\n",
       "    .dataframe tbody tr th:only-of-type {\n",
       "        vertical-align: middle;\n",
       "    }\n",
       "\n",
       "    .dataframe tbody tr th {\n",
       "        vertical-align: top;\n",
       "    }\n",
       "\n",
       "    .dataframe thead th {\n",
       "        text-align: right;\n",
       "    }\n",
       "</style>\n",
       "<table border=\"1\" class=\"dataframe\">\n",
       "  <thead>\n",
       "    <tr style=\"text-align: right;\">\n",
       "      <th></th>\n",
       "      <th>Aircraft_Type</th>\n",
       "      <th>Total_cost</th>\n",
       "    </tr>\n",
       "  </thead>\n",
       "  <tbody>\n",
       "    <tr>\n",
       "      <th>0</th>\n",
       "      <td>A320</td>\n",
       "      <td>74375000</td>\n",
       "    </tr>\n",
       "    <tr>\n",
       "      <th>1</th>\n",
       "      <td>A330</td>\n",
       "      <td>163755000</td>\n",
       "    </tr>\n",
       "    <tr>\n",
       "      <th>2</th>\n",
       "      <td>B737</td>\n",
       "      <td>60261600</td>\n",
       "    </tr>\n",
       "    <tr>\n",
       "      <th>3</th>\n",
       "      <td>B747</td>\n",
       "      <td>132444000</td>\n",
       "    </tr>\n",
       "    <tr>\n",
       "      <th>4</th>\n",
       "      <td>Q400</td>\n",
       "      <td>33166000</td>\n",
       "    </tr>\n",
       "    <tr>\n",
       "      <th>5</th>\n",
       "      <td>ATR72</td>\n",
       "      <td>26224000</td>\n",
       "    </tr>\n",
       "  </tbody>\n",
       "</table>\n",
       "</div>"
      ],
      "text/plain": [
       "  Aircraft_Type  Total_cost\n",
       "0          A320    74375000\n",
       "1          A330   163755000\n",
       "2          B737    60261600\n",
       "3          B747   132444000\n",
       "4          Q400    33166000\n",
       "5         ATR72    26224000"
      ]
     },
     "execution_count": 18,
     "metadata": {},
     "output_type": "execute_result"
    }
   ],
   "source": [
    "aircraft_info_df[['Aircraft_Type','Total_cost']]"
   ]
  },
  {
   "cell_type": "markdown",
   "metadata": {},
   "source": [
    "#### Multiplying the 'Hours_Flown' and 'Avg_speed_in_Kph' columns to calculate the total distance flown by each aircraft"
   ]
  },
  {
   "cell_type": "code",
   "execution_count": 19,
   "metadata": {},
   "outputs": [
    {
     "data": {
      "text/html": [
       "<div>\n",
       "<style scoped>\n",
       "    .dataframe tbody tr th:only-of-type {\n",
       "        vertical-align: middle;\n",
       "    }\n",
       "\n",
       "    .dataframe tbody tr th {\n",
       "        vertical-align: top;\n",
       "    }\n",
       "\n",
       "    .dataframe thead th {\n",
       "        text-align: right;\n",
       "    }\n",
       "</style>\n",
       "<table border=\"1\" class=\"dataframe\">\n",
       "  <thead>\n",
       "    <tr style=\"text-align: right;\">\n",
       "      <th></th>\n",
       "      <th>Aircraft_Type</th>\n",
       "      <th>No_of_seats</th>\n",
       "      <th>Distance_flown</th>\n",
       "      <th>Total_cost</th>\n",
       "    </tr>\n",
       "  </thead>\n",
       "  <tbody>\n",
       "    <tr>\n",
       "      <th>0</th>\n",
       "      <td>A320</td>\n",
       "      <td>150</td>\n",
       "      <td>11900000</td>\n",
       "      <td>74375000</td>\n",
       "    </tr>\n",
       "    <tr>\n",
       "      <th>1</th>\n",
       "      <td>A330</td>\n",
       "      <td>250</td>\n",
       "      <td>19650600</td>\n",
       "      <td>163755000</td>\n",
       "    </tr>\n",
       "    <tr>\n",
       "      <th>2</th>\n",
       "      <td>B737</td>\n",
       "      <td>150</td>\n",
       "      <td>9452800</td>\n",
       "      <td>60261600</td>\n",
       "    </tr>\n",
       "    <tr>\n",
       "      <th>3</th>\n",
       "      <td>B747</td>\n",
       "      <td>350</td>\n",
       "      <td>9933300</td>\n",
       "      <td>132444000</td>\n",
       "    </tr>\n",
       "    <tr>\n",
       "      <th>4</th>\n",
       "      <td>Q400</td>\n",
       "      <td>90</td>\n",
       "      <td>7107000</td>\n",
       "      <td>33166000</td>\n",
       "    </tr>\n",
       "    <tr>\n",
       "      <th>5</th>\n",
       "      <td>ATR72</td>\n",
       "      <td>75</td>\n",
       "      <td>6198400</td>\n",
       "      <td>26224000</td>\n",
       "    </tr>\n",
       "  </tbody>\n",
       "</table>\n",
       "</div>"
      ],
      "text/plain": [
       "  Aircraft_Type  No_of_seats  Distance_flown  Total_cost\n",
       "0          A320          150        11900000    74375000\n",
       "1          A330          250        19650600   163755000\n",
       "2          B737          150         9452800    60261600\n",
       "3          B747          350         9933300   132444000\n",
       "4          Q400           90         7107000    33166000\n",
       "5         ATR72           75         6198400    26224000"
      ]
     },
     "execution_count": 19,
     "metadata": {},
     "output_type": "execute_result"
    }
   ],
   "source": [
    "aircraft_info_df['Distance_flown'] = aircraft_info_df['Total_Hours'] * aircraft_info_df['Avg_speed_in_Kph']\n",
    "\n",
    "aircraft_info_df[['Aircraft_Type','No_of_seats','Distance_flown','Total_cost']]"
   ]
  },
  {
   "cell_type": "markdown",
   "metadata": {},
   "source": [
    "#### Calculating the 'Cost/seat/km' metric by using the expression:\n",
    "\n",
    "Total_cost / (Distance_flown * No_of_seats)"
   ]
  },
  {
   "cell_type": "code",
   "execution_count": 20,
   "metadata": {},
   "outputs": [
    {
     "data": {
      "text/html": [
       "<div>\n",
       "<style scoped>\n",
       "    .dataframe tbody tr th:only-of-type {\n",
       "        vertical-align: middle;\n",
       "    }\n",
       "\n",
       "    .dataframe tbody tr th {\n",
       "        vertical-align: top;\n",
       "    }\n",
       "\n",
       "    .dataframe thead th {\n",
       "        text-align: right;\n",
       "    }\n",
       "</style>\n",
       "<table border=\"1\" class=\"dataframe\">\n",
       "  <thead>\n",
       "    <tr style=\"text-align: right;\">\n",
       "      <th></th>\n",
       "      <th>Aircraft_Type</th>\n",
       "      <th>Cost/seat/km</th>\n",
       "    </tr>\n",
       "  </thead>\n",
       "  <tbody>\n",
       "    <tr>\n",
       "      <th>0</th>\n",
       "      <td>A320</td>\n",
       "      <td>0.041667</td>\n",
       "    </tr>\n",
       "    <tr>\n",
       "      <th>1</th>\n",
       "      <td>A330</td>\n",
       "      <td>0.033333</td>\n",
       "    </tr>\n",
       "    <tr>\n",
       "      <th>2</th>\n",
       "      <td>B737</td>\n",
       "      <td>0.042500</td>\n",
       "    </tr>\n",
       "    <tr>\n",
       "      <th>3</th>\n",
       "      <td>B747</td>\n",
       "      <td>0.038095</td>\n",
       "    </tr>\n",
       "    <tr>\n",
       "      <th>4</th>\n",
       "      <td>Q400</td>\n",
       "      <td>0.051852</td>\n",
       "    </tr>\n",
       "    <tr>\n",
       "      <th>5</th>\n",
       "      <td>ATR72</td>\n",
       "      <td>0.056410</td>\n",
       "    </tr>\n",
       "  </tbody>\n",
       "</table>\n",
       "</div>"
      ],
      "text/plain": [
       "  Aircraft_Type  Cost/seat/km\n",
       "0          A320      0.041667\n",
       "1          A330      0.033333\n",
       "2          B737      0.042500\n",
       "3          B747      0.038095\n",
       "4          Q400      0.051852\n",
       "5         ATR72      0.056410"
      ]
     },
     "execution_count": 20,
     "metadata": {},
     "output_type": "execute_result"
    }
   ],
   "source": [
    "aircraft_info_df['Cost/seat/km'] = aircraft_info_df['Total_cost'] / (aircraft_info_df['Distance_flown'] * aircraft_info_df['No_of_seats'])\n",
    "\n",
    "aircraft_info_df[['Aircraft_Type', 'Cost/seat/km']]"
   ]
  },
  {
   "cell_type": "markdown",
   "metadata": {},
   "source": [
    "#### Finding the cheapest aircraft in terms of 'Cost/seat/km'"
   ]
  },
  {
   "cell_type": "code",
   "execution_count": 21,
   "metadata": {},
   "outputs": [],
   "source": [
    "cheapest_AC = aircraft_info_df[aircraft_info_df['Cost/seat/km'] == aircraft_info_df['Cost/seat/km'].min()]['Aircraft_Type']"
   ]
  },
  {
   "cell_type": "code",
   "execution_count": 22,
   "metadata": {},
   "outputs": [
    {
     "data": {
      "text/plain": [
       "'A330'"
      ]
     },
     "execution_count": 22,
     "metadata": {},
     "output_type": "execute_result"
    }
   ],
   "source": [
    "# Since the 'cheapest_AC' variable is of the type 'Series' \n",
    "# we will use the below method to print the name of the cheapest aircraft\n",
    "\n",
    "cheapest_AC[cheapest_AC.index[0]]"
   ]
  },
  {
   "cell_type": "markdown",
   "metadata": {},
   "source": [
    "---\n",
    "### PART B\n",
    "\n",
    "This part of the case study needs us to load the 'City pairs' table as 'route_df' dataframe"
   ]
  },
  {
   "cell_type": "code",
   "execution_count": 23,
   "metadata": {},
   "outputs": [
    {
     "data": {
      "text/html": [
       "<div>\n",
       "<style scoped>\n",
       "    .dataframe tbody tr th:only-of-type {\n",
       "        vertical-align: middle;\n",
       "    }\n",
       "\n",
       "    .dataframe tbody tr th {\n",
       "        vertical-align: top;\n",
       "    }\n",
       "\n",
       "    .dataframe thead th {\n",
       "        text-align: right;\n",
       "    }\n",
       "</style>\n",
       "<table border=\"1\" class=\"dataframe\">\n",
       "  <thead>\n",
       "    <tr style=\"text-align: right;\">\n",
       "      <th></th>\n",
       "      <th>Origin</th>\n",
       "      <th>Desitnation</th>\n",
       "      <th>PD</th>\n",
       "      <th>Distance_km</th>\n",
       "    </tr>\n",
       "  </thead>\n",
       "  <tbody>\n",
       "    <tr>\n",
       "      <th>0</th>\n",
       "      <td>AA</td>\n",
       "      <td>BB</td>\n",
       "      <td>420</td>\n",
       "      <td>3,000</td>\n",
       "    </tr>\n",
       "    <tr>\n",
       "      <th>1</th>\n",
       "      <td>BB</td>\n",
       "      <td>CC</td>\n",
       "      <td>450</td>\n",
       "      <td>6,500</td>\n",
       "    </tr>\n",
       "    <tr>\n",
       "      <th>2</th>\n",
       "      <td>CC</td>\n",
       "      <td>AA</td>\n",
       "      <td>300</td>\n",
       "      <td>400</td>\n",
       "    </tr>\n",
       "    <tr>\n",
       "      <th>3</th>\n",
       "      <td>AA</td>\n",
       "      <td>DD</td>\n",
       "      <td>300</td>\n",
       "      <td>1,000</td>\n",
       "    </tr>\n",
       "  </tbody>\n",
       "</table>\n",
       "</div>"
      ],
      "text/plain": [
       "  Origin Desitnation   PD Distance_km\n",
       "0     AA         BB   420       3,000\n",
       "1     BB         CC   450       6,500\n",
       "2     CC         AA   300         400\n",
       "3     AA         DD   300       1,000"
      ]
     },
     "execution_count": 23,
     "metadata": {},
     "output_type": "execute_result"
    }
   ],
   "source": [
    "route_df = pd.read_csv('City_pairs.csv')\n",
    "route_df"
   ]
  },
  {
   "cell_type": "markdown",
   "metadata": {},
   "source": [
    "Let's make the dataframe for interpretable by calling each rows as differnt routes.\n",
    "\n",
    "We'll add a new column indicating the route no."
   ]
  },
  {
   "cell_type": "code",
   "execution_count": 24,
   "metadata": {},
   "outputs": [
    {
     "data": {
      "text/html": [
       "<div>\n",
       "<style scoped>\n",
       "    .dataframe tbody tr th:only-of-type {\n",
       "        vertical-align: middle;\n",
       "    }\n",
       "\n",
       "    .dataframe tbody tr th {\n",
       "        vertical-align: top;\n",
       "    }\n",
       "\n",
       "    .dataframe thead th {\n",
       "        text-align: right;\n",
       "    }\n",
       "</style>\n",
       "<table border=\"1\" class=\"dataframe\">\n",
       "  <thead>\n",
       "    <tr style=\"text-align: right;\">\n",
       "      <th></th>\n",
       "      <th>route_no</th>\n",
       "      <th>Origin</th>\n",
       "      <th>Desitnation</th>\n",
       "      <th>PD</th>\n",
       "      <th>Distance_km</th>\n",
       "    </tr>\n",
       "  </thead>\n",
       "  <tbody>\n",
       "    <tr>\n",
       "      <th>0</th>\n",
       "      <td>1</td>\n",
       "      <td>AA</td>\n",
       "      <td>BB</td>\n",
       "      <td>420</td>\n",
       "      <td>3,000</td>\n",
       "    </tr>\n",
       "    <tr>\n",
       "      <th>1</th>\n",
       "      <td>2</td>\n",
       "      <td>BB</td>\n",
       "      <td>CC</td>\n",
       "      <td>450</td>\n",
       "      <td>6,500</td>\n",
       "    </tr>\n",
       "    <tr>\n",
       "      <th>2</th>\n",
       "      <td>3</td>\n",
       "      <td>CC</td>\n",
       "      <td>AA</td>\n",
       "      <td>300</td>\n",
       "      <td>400</td>\n",
       "    </tr>\n",
       "    <tr>\n",
       "      <th>3</th>\n",
       "      <td>4</td>\n",
       "      <td>AA</td>\n",
       "      <td>DD</td>\n",
       "      <td>300</td>\n",
       "      <td>1,000</td>\n",
       "    </tr>\n",
       "  </tbody>\n",
       "</table>\n",
       "</div>"
      ],
      "text/plain": [
       "   route_no Origin Desitnation   PD Distance_km\n",
       "0         1     AA         BB   420       3,000\n",
       "1         2     BB         CC   450       6,500\n",
       "2         3     CC         AA   300         400\n",
       "3         4     AA         DD   300       1,000"
      ]
     },
     "execution_count": 24,
     "metadata": {},
     "output_type": "execute_result"
    }
   ],
   "source": [
    "route_df.insert(0, 'route_no', np.array([1,2,3,4]))\n",
    "route_df"
   ]
  },
  {
   "cell_type": "code",
   "execution_count": 25,
   "metadata": {},
   "outputs": [
    {
     "name": "stdout",
     "output_type": "stream",
     "text": [
      "<class 'pandas.core.frame.DataFrame'>\n",
      "RangeIndex: 4 entries, 0 to 3\n",
      "Data columns (total 5 columns):\n",
      " #   Column       Non-Null Count  Dtype \n",
      "---  ------       --------------  ----- \n",
      " 0   route_no     4 non-null      int32 \n",
      " 1   Origin       4 non-null      object\n",
      " 2   Desitnation  4 non-null      object\n",
      " 3   PD           4 non-null      int64 \n",
      " 4   Distance_km  4 non-null      object\n",
      "dtypes: int32(1), int64(1), object(3)\n",
      "memory usage: 272.0+ bytes\n"
     ]
    }
   ],
   "source": [
    "# Checking the info of the dataframe\n",
    "\n",
    "route_df.info()\n",
    "\n",
    "# Note: The 'PD' column corresponds to the daily passenger demand"
   ]
  },
  {
   "cell_type": "markdown",
   "metadata": {},
   "source": [
    "#### We encounter the same problem we came across with the 'char_data' dataframe. \n",
    "\n",
    "#### So, we'll fix the data type of the 'Distance_km' column as we did before."
   ]
  },
  {
   "cell_type": "code",
   "execution_count": 26,
   "metadata": {},
   "outputs": [],
   "source": [
    "route_df['Distance_km'] = route_df['Distance_km'].str.replace(',','')\n",
    "\n",
    "route_df = route_df.astype({'Distance_km': int})"
   ]
  },
  {
   "cell_type": "code",
   "execution_count": 27,
   "metadata": {},
   "outputs": [
    {
     "data": {
      "text/html": [
       "<div>\n",
       "<style scoped>\n",
       "    .dataframe tbody tr th:only-of-type {\n",
       "        vertical-align: middle;\n",
       "    }\n",
       "\n",
       "    .dataframe tbody tr th {\n",
       "        vertical-align: top;\n",
       "    }\n",
       "\n",
       "    .dataframe thead th {\n",
       "        text-align: right;\n",
       "    }\n",
       "</style>\n",
       "<table border=\"1\" class=\"dataframe\">\n",
       "  <thead>\n",
       "    <tr style=\"text-align: right;\">\n",
       "      <th></th>\n",
       "      <th>Aircraft_Type</th>\n",
       "      <th>Range_in_Km</th>\n",
       "      <th>No_of_seats</th>\n",
       "      <th>Cost/seat/km</th>\n",
       "    </tr>\n",
       "  </thead>\n",
       "  <tbody>\n",
       "    <tr>\n",
       "      <th>0</th>\n",
       "      <td>A320</td>\n",
       "      <td>5000</td>\n",
       "      <td>150</td>\n",
       "      <td>0.041667</td>\n",
       "    </tr>\n",
       "    <tr>\n",
       "      <th>1</th>\n",
       "      <td>A330</td>\n",
       "      <td>8000</td>\n",
       "      <td>250</td>\n",
       "      <td>0.033333</td>\n",
       "    </tr>\n",
       "    <tr>\n",
       "      <th>2</th>\n",
       "      <td>B737</td>\n",
       "      <td>5000</td>\n",
       "      <td>150</td>\n",
       "      <td>0.042500</td>\n",
       "    </tr>\n",
       "    <tr>\n",
       "      <th>3</th>\n",
       "      <td>B747</td>\n",
       "      <td>10000</td>\n",
       "      <td>350</td>\n",
       "      <td>0.038095</td>\n",
       "    </tr>\n",
       "    <tr>\n",
       "      <th>4</th>\n",
       "      <td>Q400</td>\n",
       "      <td>1500</td>\n",
       "      <td>90</td>\n",
       "      <td>0.051852</td>\n",
       "    </tr>\n",
       "    <tr>\n",
       "      <th>5</th>\n",
       "      <td>ATR72</td>\n",
       "      <td>1000</td>\n",
       "      <td>75</td>\n",
       "      <td>0.056410</td>\n",
       "    </tr>\n",
       "  </tbody>\n",
       "</table>\n",
       "</div>"
      ],
      "text/plain": [
       "  Aircraft_Type  Range_in_Km  No_of_seats  Cost/seat/km\n",
       "0          A320         5000          150      0.041667\n",
       "1          A330         8000          250      0.033333\n",
       "2          B737         5000          150      0.042500\n",
       "3          B747        10000          350      0.038095\n",
       "4          Q400         1500           90      0.051852\n",
       "5         ATR72         1000           75      0.056410"
      ]
     },
     "execution_count": 27,
     "metadata": {},
     "output_type": "execute_result"
    }
   ],
   "source": [
    "# selecting the 'Aircraft_Type','Range_in_Km','No_of_seats' and 'Cost/seat/km' columns\n",
    "# from the 'aircraft_info_df' dataframe into a new dataframe 'req_df' \n",
    "\n",
    "req_df = aircraft_info_df[['Aircraft_Type','Range_in_Km','No_of_seats','Cost/seat/km']]\n",
    "req_df"
   ]
  },
  {
   "cell_type": "markdown",
   "metadata": {},
   "source": [
    "---\n",
    "Let us now proceed with searching for the right aircraft for the each route."
   ]
  },
  {
   "cell_type": "code",
   "execution_count": 28,
   "metadata": {},
   "outputs": [
    {
     "data": {
      "text/html": [
       "<div>\n",
       "<style scoped>\n",
       "    .dataframe tbody tr th:only-of-type {\n",
       "        vertical-align: middle;\n",
       "    }\n",
       "\n",
       "    .dataframe tbody tr th {\n",
       "        vertical-align: top;\n",
       "    }\n",
       "\n",
       "    .dataframe thead th {\n",
       "        text-align: right;\n",
       "    }\n",
       "</style>\n",
       "<table border=\"1\" class=\"dataframe\">\n",
       "  <thead>\n",
       "    <tr style=\"text-align: right;\">\n",
       "      <th></th>\n",
       "      <th>Aircraft_Type</th>\n",
       "      <th>Range_in_Km</th>\n",
       "      <th>No_of_seats</th>\n",
       "      <th>Cost/seat/km</th>\n",
       "    </tr>\n",
       "  </thead>\n",
       "  <tbody>\n",
       "    <tr>\n",
       "      <th>0</th>\n",
       "      <td>A320</td>\n",
       "      <td>5000</td>\n",
       "      <td>150</td>\n",
       "      <td>0.041667</td>\n",
       "    </tr>\n",
       "    <tr>\n",
       "      <th>1</th>\n",
       "      <td>A330</td>\n",
       "      <td>8000</td>\n",
       "      <td>250</td>\n",
       "      <td>0.033333</td>\n",
       "    </tr>\n",
       "    <tr>\n",
       "      <th>2</th>\n",
       "      <td>B737</td>\n",
       "      <td>5000</td>\n",
       "      <td>150</td>\n",
       "      <td>0.042500</td>\n",
       "    </tr>\n",
       "    <tr>\n",
       "      <th>3</th>\n",
       "      <td>B747</td>\n",
       "      <td>10000</td>\n",
       "      <td>350</td>\n",
       "      <td>0.038095</td>\n",
       "    </tr>\n",
       "  </tbody>\n",
       "</table>\n",
       "</div>"
      ],
      "text/plain": [
       "  Aircraft_Type  Range_in_Km  No_of_seats  Cost/seat/km\n",
       "0          A320         5000          150      0.041667\n",
       "1          A330         8000          250      0.033333\n",
       "2          B737         5000          150      0.042500\n",
       "3          B747        10000          350      0.038095"
      ]
     },
     "execution_count": 28,
     "metadata": {},
     "output_type": "execute_result"
    }
   ],
   "source": [
    "# for route no 1, let's first filter out the 'req_df' dataframe to \n",
    "# find out the aircrafts having range greater than the length of the route \n",
    "# i.e req_df['Range_in_Km'] > 3000\n",
    "\n",
    "route1_df = req_df[req_df['Range_in_Km'] > 3000]\n",
    "\n",
    "route1_df"
   ]
  },
  {
   "cell_type": "markdown",
   "metadata": {},
   "source": [
    "Checking the daily passenger demand for this route"
   ]
  },
  {
   "cell_type": "code",
   "execution_count": 29,
   "metadata": {},
   "outputs": [
    {
     "data": {
      "text/plain": [
       "420"
      ]
     },
     "execution_count": 29,
     "metadata": {},
     "output_type": "execute_result"
    }
   ],
   "source": [
    "route1_pd = route_df[route_df['route_no'] == 1]['PD']\n",
    "route1_pd[route1_pd.index[0]]"
   ]
  },
  {
   "cell_type": "markdown",
   "metadata": {},
   "source": [
    "Since the passenger demand exceeds the no. of seats in any aircraft, we will need to find the no. of aircrafts (or no. of daily trips for each aircraft) required for this route. \n",
    "\n",
    "To do this we will need the folling formula:\n",
    "\n",
    "no of aircrafts = { 'PD // (no of seats)' if PD % (no of seats) = 0\n",
    "                   \n",
    "                    else,\n",
    "                   \n",
    "                    '(PD//(no of seats)) + 1' }\n",
    "                   \n",
    "where, '//' and '%' are the quotient and the modulo operators respectively and \n",
    "'PD' is the daily passenger demand."
   ]
  },
  {
   "cell_type": "code",
   "execution_count": 30,
   "metadata": {},
   "outputs": [],
   "source": [
    "# Calculating the no of aircrafts required for each aircraft type \n",
    "# by applying the above formula to the 'No_of_seats' column \n",
    "\n",
    "route1_df.loc[:,'No_Aircrafts'] = route1_df['No_of_seats'].apply(lambda x: 420//x if 420%x == 0 else (420//x)+1)"
   ]
  },
  {
   "cell_type": "code",
   "execution_count": 31,
   "metadata": {},
   "outputs": [],
   "source": [
    "# Since we know the 'Cost/seat/km' metric, we need to calculate the total no of seats by aircraft type\n",
    "\n",
    "route1_df.loc[:,'Total_seats'] = route1_df['No_of_seats'] * route1_df['No_Aircrafts']"
   ]
  },
  {
   "cell_type": "markdown",
   "metadata": {},
   "source": [
    "Let's calculate the daily cost of flying each aircraft on this route"
   ]
  },
  {
   "cell_type": "code",
   "execution_count": 32,
   "metadata": {},
   "outputs": [],
   "source": [
    "# Multiplying the columns 'Total_seats'\n",
    "\n",
    "route1_df.loc[:,'Daily_flying_cost'] = route1_df['Total_seats'] * route1_df['Cost/seat/km'] * 3000"
   ]
  },
  {
   "cell_type": "code",
   "execution_count": 33,
   "metadata": {},
   "outputs": [
    {
     "data": {
      "text/html": [
       "<div>\n",
       "<style scoped>\n",
       "    .dataframe tbody tr th:only-of-type {\n",
       "        vertical-align: middle;\n",
       "    }\n",
       "\n",
       "    .dataframe tbody tr th {\n",
       "        vertical-align: top;\n",
       "    }\n",
       "\n",
       "    .dataframe thead th {\n",
       "        text-align: right;\n",
       "    }\n",
       "</style>\n",
       "<table border=\"1\" class=\"dataframe\">\n",
       "  <thead>\n",
       "    <tr style=\"text-align: right;\">\n",
       "      <th></th>\n",
       "      <th>Aircraft_Type</th>\n",
       "      <th>Range_in_Km</th>\n",
       "      <th>No_of_seats</th>\n",
       "      <th>Cost/seat/km</th>\n",
       "      <th>No_Aircrafts</th>\n",
       "      <th>Total_seats</th>\n",
       "      <th>Daily_flying_cost</th>\n",
       "    </tr>\n",
       "  </thead>\n",
       "  <tbody>\n",
       "    <tr>\n",
       "      <th>0</th>\n",
       "      <td>A320</td>\n",
       "      <td>5000</td>\n",
       "      <td>150</td>\n",
       "      <td>0.041667</td>\n",
       "      <td>3</td>\n",
       "      <td>450</td>\n",
       "      <td>56250.0</td>\n",
       "    </tr>\n",
       "    <tr>\n",
       "      <th>1</th>\n",
       "      <td>A330</td>\n",
       "      <td>8000</td>\n",
       "      <td>250</td>\n",
       "      <td>0.033333</td>\n",
       "      <td>2</td>\n",
       "      <td>500</td>\n",
       "      <td>50000.0</td>\n",
       "    </tr>\n",
       "    <tr>\n",
       "      <th>2</th>\n",
       "      <td>B737</td>\n",
       "      <td>5000</td>\n",
       "      <td>150</td>\n",
       "      <td>0.042500</td>\n",
       "      <td>3</td>\n",
       "      <td>450</td>\n",
       "      <td>57375.0</td>\n",
       "    </tr>\n",
       "    <tr>\n",
       "      <th>3</th>\n",
       "      <td>B747</td>\n",
       "      <td>10000</td>\n",
       "      <td>350</td>\n",
       "      <td>0.038095</td>\n",
       "      <td>2</td>\n",
       "      <td>700</td>\n",
       "      <td>80000.0</td>\n",
       "    </tr>\n",
       "  </tbody>\n",
       "</table>\n",
       "</div>"
      ],
      "text/plain": [
       "  Aircraft_Type  Range_in_Km  No_of_seats  Cost/seat/km  No_Aircrafts  \\\n",
       "0          A320         5000          150      0.041667             3   \n",
       "1          A330         8000          250      0.033333             2   \n",
       "2          B737         5000          150      0.042500             3   \n",
       "3          B747        10000          350      0.038095             2   \n",
       "\n",
       "   Total_seats  Daily_flying_cost  \n",
       "0          450            56250.0  \n",
       "1          500            50000.0  \n",
       "2          450            57375.0  \n",
       "3          700            80000.0  "
      ]
     },
     "execution_count": 33,
     "metadata": {},
     "output_type": "execute_result"
    }
   ],
   "source": [
    "route1_df"
   ]
  },
  {
   "cell_type": "markdown",
   "metadata": {},
   "source": [
    "The optimum aircraft for this route will be the one with least daily flying cost."
   ]
  },
  {
   "cell_type": "code",
   "execution_count": 34,
   "metadata": {},
   "outputs": [
    {
     "data": {
      "text/plain": [
       "'A330'"
      ]
     },
     "execution_count": 34,
     "metadata": {},
     "output_type": "execute_result"
    }
   ],
   "source": [
    "route1_AC = route1_df[route1_df['Daily_flying_cost'] == route1_df['Daily_flying_cost'].min()]['Aircraft_Type']\n",
    "route1_AC[route1_AC.index[0]]"
   ]
  },
  {
   "cell_type": "markdown",
   "metadata": {},
   "source": [
    "### Automizing the process with a function\n",
    "\n",
    "We will have to repeat the same process for all the other routes as well. Doing this manually each time would not be feasable. Hence, we will use for loops and string comprehension for this. \n",
    "\n",
    "The function will take in the _route_df_ dataframe as input, do the above operations for all the routes and return the following objects:\n",
    "\n",
    "- **fleet**: DataFrame containing the required fleet information like aircraft type, no of aircrafts and daily flying cost for that route\n",
    "- **RouteDF**: A Comprehensive DataFrame consisting of all the eligible aircrafts for each route."
   ]
  },
  {
   "cell_type": "code",
   "execution_count": 35,
   "metadata": {},
   "outputs": [],
   "source": [
    "def optimize_fleet(data=route_df):\n",
    "    \n",
    "    # generating the list of filtered dataframes\n",
    "    \n",
    "    route_AClist = [req_df[req_df['Range_in_Km'] >= dist] for dist in data['Distance_km']]\n",
    "    \n",
    "    # generating the list of 'no of aircrafts' arrays\n",
    "    \n",
    "    no_AC_list = [route_AClist[i]['No_of_seats'].apply(lambda x: (data['PD'][i])//x if (data['PD'][i])%x == 0 \n",
    "                                                   else ((data['PD'][i])//x)+1) for i in range(len(data))]\n",
    "    \n",
    "    # generating the list of 'total seats' arrays\n",
    "    \n",
    "    tt_seat_list = [no_AC_list[i] * route_AClist[i]['No_of_seats'] for i in range(4)]\n",
    "    \n",
    "    # generating the list of 'daily flying cost' arrays\n",
    "    \n",
    "    route_cost_list = [tt_seat_list[i] * route_AClist[i]['Cost/seat/km']\n",
    "                   * data['Distance_km'][i] for i in range(len(data))]\n",
    "    \n",
    "    # initializing the list of optimum aircrafts \n",
    "    opt_AC_list = []\n",
    "    \n",
    "    # adding the columns to the respective dataframes\n",
    "    for i in range(len(data)):\n",
    "        \n",
    "        route_AClist[i].loc[:,'No_Aircrafts'] = no_AC_list[i]\n",
    "        route_AClist[i].loc[:,'Total_seats'] = tt_seat_list[i]\n",
    "        route_AClist[i].loc[:,'Daily_flying_cost'] = route_cost_list[i]\n",
    "        \n",
    "        # adding the route no column to each dataframe\n",
    "        route_AClist[i].insert(0, 'Route No.', (i+1)*np.ones(len(route_AClist[i])))\n",
    "        \n",
    "        # updating the optimum aircraft variable\n",
    "        opt_AC = route_AClist[i][route_AClist[i]['Daily_flying_cost'] == \n",
    "                                                  route_AClist[i]['Daily_flying_cost'].min()]\n",
    "        \n",
    "        # appending the aircraft to the list\n",
    "        opt_AC_list.append(opt_AC)\n",
    "    \n",
    "    # generating the fleet DF\n",
    "    fleet = pd.concat([opt for opt in opt_AC_list], axis=0)\n",
    "    fleet = fleet[[\"Route No.\", \"Aircraft_Type\", \"No_Aircrafts\", \"Daily_flying_cost\"]]\n",
    "    fleet[\"Daily_flying_cost\"] = fleet[\"Daily_flying_cost\"].apply(lambda x: round(x, 2))\n",
    "    \n",
    "    # generating the RouteDF\n",
    "    RouteDF = pd.concat([df for df in route_AClist], axis = 0)\n",
    "    RouteDF[\"Daily_flying_cost\"] = RouteDF[\"Daily_flying_cost\"].apply(lambda x: round(x, 2))\n",
    "    \n",
    "    return fleet, RouteDF"
   ]
  },
  {
   "cell_type": "markdown",
   "metadata": {},
   "source": [
    "Let's check it out!"
   ]
  },
  {
   "cell_type": "code",
   "execution_count": 36,
   "metadata": {},
   "outputs": [
    {
     "data": {
      "text/html": [
       "<div>\n",
       "<style scoped>\n",
       "    .dataframe tbody tr th:only-of-type {\n",
       "        vertical-align: middle;\n",
       "    }\n",
       "\n",
       "    .dataframe tbody tr th {\n",
       "        vertical-align: top;\n",
       "    }\n",
       "\n",
       "    .dataframe thead th {\n",
       "        text-align: right;\n",
       "    }\n",
       "</style>\n",
       "<table border=\"1\" class=\"dataframe\">\n",
       "  <thead>\n",
       "    <tr style=\"text-align: right;\">\n",
       "      <th></th>\n",
       "      <th>Route No.</th>\n",
       "      <th>Aircraft_Type</th>\n",
       "      <th>No_Aircrafts</th>\n",
       "      <th>Daily_flying_cost</th>\n",
       "    </tr>\n",
       "  </thead>\n",
       "  <tbody>\n",
       "    <tr>\n",
       "      <th>1</th>\n",
       "      <td>1.0</td>\n",
       "      <td>A330</td>\n",
       "      <td>2</td>\n",
       "      <td>50000.00</td>\n",
       "    </tr>\n",
       "    <tr>\n",
       "      <th>1</th>\n",
       "      <td>2.0</td>\n",
       "      <td>A330</td>\n",
       "      <td>2</td>\n",
       "      <td>108333.33</td>\n",
       "    </tr>\n",
       "    <tr>\n",
       "      <th>0</th>\n",
       "      <td>3.0</td>\n",
       "      <td>A320</td>\n",
       "      <td>2</td>\n",
       "      <td>5000.00</td>\n",
       "    </tr>\n",
       "    <tr>\n",
       "      <th>0</th>\n",
       "      <td>4.0</td>\n",
       "      <td>A320</td>\n",
       "      <td>2</td>\n",
       "      <td>12500.00</td>\n",
       "    </tr>\n",
       "  </tbody>\n",
       "</table>\n",
       "</div>"
      ],
      "text/plain": [
       "   Route No. Aircraft_Type  No_Aircrafts  Daily_flying_cost\n",
       "1        1.0          A330             2           50000.00\n",
       "1        2.0          A330             2          108333.33\n",
       "0        3.0          A320             2            5000.00\n",
       "0        4.0          A320             2           12500.00"
      ]
     },
     "execution_count": 36,
     "metadata": {},
     "output_type": "execute_result"
    }
   ],
   "source": [
    "fleet, RouteDF = optimize_fleet()\n",
    "fleet"
   ]
  },
  {
   "cell_type": "code",
   "execution_count": 37,
   "metadata": {},
   "outputs": [
    {
     "data": {
      "text/html": [
       "<div>\n",
       "<style scoped>\n",
       "    .dataframe tbody tr th:only-of-type {\n",
       "        vertical-align: middle;\n",
       "    }\n",
       "\n",
       "    .dataframe tbody tr th {\n",
       "        vertical-align: top;\n",
       "    }\n",
       "\n",
       "    .dataframe thead th {\n",
       "        text-align: right;\n",
       "    }\n",
       "</style>\n",
       "<table border=\"1\" class=\"dataframe\">\n",
       "  <thead>\n",
       "    <tr style=\"text-align: right;\">\n",
       "      <th></th>\n",
       "      <th>Route No.</th>\n",
       "      <th>Aircraft_Type</th>\n",
       "      <th>Range_in_Km</th>\n",
       "      <th>No_of_seats</th>\n",
       "      <th>Cost/seat/km</th>\n",
       "      <th>No_Aircrafts</th>\n",
       "      <th>Total_seats</th>\n",
       "      <th>Daily_flying_cost</th>\n",
       "    </tr>\n",
       "  </thead>\n",
       "  <tbody>\n",
       "    <tr>\n",
       "      <th>0</th>\n",
       "      <td>1.0</td>\n",
       "      <td>A320</td>\n",
       "      <td>5000</td>\n",
       "      <td>150</td>\n",
       "      <td>0.041667</td>\n",
       "      <td>3</td>\n",
       "      <td>450</td>\n",
       "      <td>56250.00</td>\n",
       "    </tr>\n",
       "    <tr>\n",
       "      <th>1</th>\n",
       "      <td>1.0</td>\n",
       "      <td>A330</td>\n",
       "      <td>8000</td>\n",
       "      <td>250</td>\n",
       "      <td>0.033333</td>\n",
       "      <td>2</td>\n",
       "      <td>500</td>\n",
       "      <td>50000.00</td>\n",
       "    </tr>\n",
       "    <tr>\n",
       "      <th>2</th>\n",
       "      <td>1.0</td>\n",
       "      <td>B737</td>\n",
       "      <td>5000</td>\n",
       "      <td>150</td>\n",
       "      <td>0.042500</td>\n",
       "      <td>3</td>\n",
       "      <td>450</td>\n",
       "      <td>57375.00</td>\n",
       "    </tr>\n",
       "    <tr>\n",
       "      <th>3</th>\n",
       "      <td>1.0</td>\n",
       "      <td>B747</td>\n",
       "      <td>10000</td>\n",
       "      <td>350</td>\n",
       "      <td>0.038095</td>\n",
       "      <td>2</td>\n",
       "      <td>700</td>\n",
       "      <td>80000.00</td>\n",
       "    </tr>\n",
       "    <tr>\n",
       "      <th>1</th>\n",
       "      <td>2.0</td>\n",
       "      <td>A330</td>\n",
       "      <td>8000</td>\n",
       "      <td>250</td>\n",
       "      <td>0.033333</td>\n",
       "      <td>2</td>\n",
       "      <td>500</td>\n",
       "      <td>108333.33</td>\n",
       "    </tr>\n",
       "    <tr>\n",
       "      <th>3</th>\n",
       "      <td>2.0</td>\n",
       "      <td>B747</td>\n",
       "      <td>10000</td>\n",
       "      <td>350</td>\n",
       "      <td>0.038095</td>\n",
       "      <td>2</td>\n",
       "      <td>700</td>\n",
       "      <td>173333.33</td>\n",
       "    </tr>\n",
       "    <tr>\n",
       "      <th>0</th>\n",
       "      <td>3.0</td>\n",
       "      <td>A320</td>\n",
       "      <td>5000</td>\n",
       "      <td>150</td>\n",
       "      <td>0.041667</td>\n",
       "      <td>2</td>\n",
       "      <td>300</td>\n",
       "      <td>5000.00</td>\n",
       "    </tr>\n",
       "    <tr>\n",
       "      <th>1</th>\n",
       "      <td>3.0</td>\n",
       "      <td>A330</td>\n",
       "      <td>8000</td>\n",
       "      <td>250</td>\n",
       "      <td>0.033333</td>\n",
       "      <td>2</td>\n",
       "      <td>500</td>\n",
       "      <td>6666.67</td>\n",
       "    </tr>\n",
       "    <tr>\n",
       "      <th>2</th>\n",
       "      <td>3.0</td>\n",
       "      <td>B737</td>\n",
       "      <td>5000</td>\n",
       "      <td>150</td>\n",
       "      <td>0.042500</td>\n",
       "      <td>2</td>\n",
       "      <td>300</td>\n",
       "      <td>5100.00</td>\n",
       "    </tr>\n",
       "    <tr>\n",
       "      <th>3</th>\n",
       "      <td>3.0</td>\n",
       "      <td>B747</td>\n",
       "      <td>10000</td>\n",
       "      <td>350</td>\n",
       "      <td>0.038095</td>\n",
       "      <td>1</td>\n",
       "      <td>350</td>\n",
       "      <td>5333.33</td>\n",
       "    </tr>\n",
       "    <tr>\n",
       "      <th>4</th>\n",
       "      <td>3.0</td>\n",
       "      <td>Q400</td>\n",
       "      <td>1500</td>\n",
       "      <td>90</td>\n",
       "      <td>0.051852</td>\n",
       "      <td>4</td>\n",
       "      <td>360</td>\n",
       "      <td>7466.67</td>\n",
       "    </tr>\n",
       "    <tr>\n",
       "      <th>5</th>\n",
       "      <td>3.0</td>\n",
       "      <td>ATR72</td>\n",
       "      <td>1000</td>\n",
       "      <td>75</td>\n",
       "      <td>0.056410</td>\n",
       "      <td>4</td>\n",
       "      <td>300</td>\n",
       "      <td>6769.23</td>\n",
       "    </tr>\n",
       "    <tr>\n",
       "      <th>0</th>\n",
       "      <td>4.0</td>\n",
       "      <td>A320</td>\n",
       "      <td>5000</td>\n",
       "      <td>150</td>\n",
       "      <td>0.041667</td>\n",
       "      <td>2</td>\n",
       "      <td>300</td>\n",
       "      <td>12500.00</td>\n",
       "    </tr>\n",
       "    <tr>\n",
       "      <th>1</th>\n",
       "      <td>4.0</td>\n",
       "      <td>A330</td>\n",
       "      <td>8000</td>\n",
       "      <td>250</td>\n",
       "      <td>0.033333</td>\n",
       "      <td>2</td>\n",
       "      <td>500</td>\n",
       "      <td>16666.67</td>\n",
       "    </tr>\n",
       "    <tr>\n",
       "      <th>2</th>\n",
       "      <td>4.0</td>\n",
       "      <td>B737</td>\n",
       "      <td>5000</td>\n",
       "      <td>150</td>\n",
       "      <td>0.042500</td>\n",
       "      <td>2</td>\n",
       "      <td>300</td>\n",
       "      <td>12750.00</td>\n",
       "    </tr>\n",
       "    <tr>\n",
       "      <th>3</th>\n",
       "      <td>4.0</td>\n",
       "      <td>B747</td>\n",
       "      <td>10000</td>\n",
       "      <td>350</td>\n",
       "      <td>0.038095</td>\n",
       "      <td>1</td>\n",
       "      <td>350</td>\n",
       "      <td>13333.33</td>\n",
       "    </tr>\n",
       "    <tr>\n",
       "      <th>4</th>\n",
       "      <td>4.0</td>\n",
       "      <td>Q400</td>\n",
       "      <td>1500</td>\n",
       "      <td>90</td>\n",
       "      <td>0.051852</td>\n",
       "      <td>4</td>\n",
       "      <td>360</td>\n",
       "      <td>18666.67</td>\n",
       "    </tr>\n",
       "    <tr>\n",
       "      <th>5</th>\n",
       "      <td>4.0</td>\n",
       "      <td>ATR72</td>\n",
       "      <td>1000</td>\n",
       "      <td>75</td>\n",
       "      <td>0.056410</td>\n",
       "      <td>4</td>\n",
       "      <td>300</td>\n",
       "      <td>16923.08</td>\n",
       "    </tr>\n",
       "  </tbody>\n",
       "</table>\n",
       "</div>"
      ],
      "text/plain": [
       "   Route No. Aircraft_Type  Range_in_Km  No_of_seats  Cost/seat/km  \\\n",
       "0        1.0          A320         5000          150      0.041667   \n",
       "1        1.0          A330         8000          250      0.033333   \n",
       "2        1.0          B737         5000          150      0.042500   \n",
       "3        1.0          B747        10000          350      0.038095   \n",
       "1        2.0          A330         8000          250      0.033333   \n",
       "3        2.0          B747        10000          350      0.038095   \n",
       "0        3.0          A320         5000          150      0.041667   \n",
       "1        3.0          A330         8000          250      0.033333   \n",
       "2        3.0          B737         5000          150      0.042500   \n",
       "3        3.0          B747        10000          350      0.038095   \n",
       "4        3.0          Q400         1500           90      0.051852   \n",
       "5        3.0         ATR72         1000           75      0.056410   \n",
       "0        4.0          A320         5000          150      0.041667   \n",
       "1        4.0          A330         8000          250      0.033333   \n",
       "2        4.0          B737         5000          150      0.042500   \n",
       "3        4.0          B747        10000          350      0.038095   \n",
       "4        4.0          Q400         1500           90      0.051852   \n",
       "5        4.0         ATR72         1000           75      0.056410   \n",
       "\n",
       "   No_Aircrafts  Total_seats  Daily_flying_cost  \n",
       "0             3          450           56250.00  \n",
       "1             2          500           50000.00  \n",
       "2             3          450           57375.00  \n",
       "3             2          700           80000.00  \n",
       "1             2          500          108333.33  \n",
       "3             2          700          173333.33  \n",
       "0             2          300            5000.00  \n",
       "1             2          500            6666.67  \n",
       "2             2          300            5100.00  \n",
       "3             1          350            5333.33  \n",
       "4             4          360            7466.67  \n",
       "5             4          300            6769.23  \n",
       "0             2          300           12500.00  \n",
       "1             2          500           16666.67  \n",
       "2             2          300           12750.00  \n",
       "3             1          350           13333.33  \n",
       "4             4          360           18666.67  \n",
       "5             4          300           16923.08  "
      ]
     },
     "execution_count": 37,
     "metadata": {},
     "output_type": "execute_result"
    }
   ],
   "source": [
    "RouteDF"
   ]
  },
  {
   "cell_type": "code",
   "execution_count": 38,
   "metadata": {},
   "outputs": [
    {
     "data": {
      "text/html": [
       "<div>\n",
       "<style scoped>\n",
       "    .dataframe tbody tr th:only-of-type {\n",
       "        vertical-align: middle;\n",
       "    }\n",
       "\n",
       "    .dataframe tbody tr th {\n",
       "        vertical-align: top;\n",
       "    }\n",
       "\n",
       "    .dataframe thead th {\n",
       "        text-align: right;\n",
       "    }\n",
       "</style>\n",
       "<table border=\"1\" class=\"dataframe\">\n",
       "  <thead>\n",
       "    <tr style=\"text-align: right;\">\n",
       "      <th></th>\n",
       "      <th>Aircraft_Type</th>\n",
       "      <th>Range_in_Km</th>\n",
       "      <th>Avg_speed_in_Kph</th>\n",
       "      <th>No_of_seats</th>\n",
       "      <th>Cost/flight_hr</th>\n",
       "      <th>Total_Hours</th>\n",
       "      <th>Total_cost</th>\n",
       "      <th>Distance_flown</th>\n",
       "      <th>Cost/seat/km</th>\n",
       "    </tr>\n",
       "  </thead>\n",
       "  <tbody>\n",
       "    <tr>\n",
       "      <th>0</th>\n",
       "      <td>A320</td>\n",
       "      <td>5000</td>\n",
       "      <td>800</td>\n",
       "      <td>150</td>\n",
       "      <td>5000</td>\n",
       "      <td>14875</td>\n",
       "      <td>74375000</td>\n",
       "      <td>11900000</td>\n",
       "      <td>0.041667</td>\n",
       "    </tr>\n",
       "    <tr>\n",
       "      <th>1</th>\n",
       "      <td>A330</td>\n",
       "      <td>8000</td>\n",
       "      <td>900</td>\n",
       "      <td>250</td>\n",
       "      <td>7500</td>\n",
       "      <td>21834</td>\n",
       "      <td>163755000</td>\n",
       "      <td>19650600</td>\n",
       "      <td>0.033333</td>\n",
       "    </tr>\n",
       "    <tr>\n",
       "      <th>2</th>\n",
       "      <td>B737</td>\n",
       "      <td>5000</td>\n",
       "      <td>800</td>\n",
       "      <td>150</td>\n",
       "      <td>5100</td>\n",
       "      <td>11816</td>\n",
       "      <td>60261600</td>\n",
       "      <td>9452800</td>\n",
       "      <td>0.042500</td>\n",
       "    </tr>\n",
       "    <tr>\n",
       "      <th>3</th>\n",
       "      <td>B747</td>\n",
       "      <td>10000</td>\n",
       "      <td>900</td>\n",
       "      <td>350</td>\n",
       "      <td>12000</td>\n",
       "      <td>11037</td>\n",
       "      <td>132444000</td>\n",
       "      <td>9933300</td>\n",
       "      <td>0.038095</td>\n",
       "    </tr>\n",
       "    <tr>\n",
       "      <th>4</th>\n",
       "      <td>Q400</td>\n",
       "      <td>1500</td>\n",
       "      <td>750</td>\n",
       "      <td>90</td>\n",
       "      <td>3500</td>\n",
       "      <td>9476</td>\n",
       "      <td>33166000</td>\n",
       "      <td>7107000</td>\n",
       "      <td>0.051852</td>\n",
       "    </tr>\n",
       "    <tr>\n",
       "      <th>5</th>\n",
       "      <td>ATR72</td>\n",
       "      <td>1000</td>\n",
       "      <td>650</td>\n",
       "      <td>75</td>\n",
       "      <td>2750</td>\n",
       "      <td>9536</td>\n",
       "      <td>26224000</td>\n",
       "      <td>6198400</td>\n",
       "      <td>0.056410</td>\n",
       "    </tr>\n",
       "  </tbody>\n",
       "</table>\n",
       "</div>"
      ],
      "text/plain": [
       "  Aircraft_Type  Range_in_Km  Avg_speed_in_Kph  No_of_seats  Cost/flight_hr  \\\n",
       "0          A320         5000               800          150            5000   \n",
       "1          A330         8000               900          250            7500   \n",
       "2          B737         5000               800          150            5100   \n",
       "3          B747        10000               900          350           12000   \n",
       "4          Q400         1500               750           90            3500   \n",
       "5         ATR72         1000               650           75            2750   \n",
       "\n",
       "   Total_Hours  Total_cost  Distance_flown  Cost/seat/km  \n",
       "0        14875    74375000        11900000      0.041667  \n",
       "1        21834   163755000        19650600      0.033333  \n",
       "2        11816    60261600         9452800      0.042500  \n",
       "3        11037   132444000         9933300      0.038095  \n",
       "4         9476    33166000         7107000      0.051852  \n",
       "5         9536    26224000         6198400      0.056410  "
      ]
     },
     "execution_count": 38,
     "metadata": {},
     "output_type": "execute_result"
    }
   ],
   "source": [
    "aircraft_info_df.to_csv('Aircraft_Info.csv', index=False)\n",
    "\n",
    "aircraft_info_df"
   ]
  },
  {
   "cell_type": "markdown",
   "metadata": {},
   "source": [
    "#### So the airline should use a fleet of 2 A330s and 2 A320s"
   ]
  },
  {
   "cell_type": "markdown",
   "metadata": {},
   "source": [
    "Now, using the RoutesDF dataframe, we can make a interactive dashboard. The dataframe has already been exported to _Routes.csv_"
   ]
  },
  {
   "cell_type": "code",
   "execution_count": 40,
   "metadata": {},
   "outputs": [],
   "source": [
    "RouteDF.to_csv('Routes.csv', index = False)"
   ]
  },
  {
   "cell_type": "markdown",
   "metadata": {},
   "source": [
    "Link to the Tableau Dashboard: \n",
    "\n",
    "https://public.tableau.com/app/profile/prakhar.gupta4871/viz/AirlineCaseStudy/MyDash?publish=yes"
   ]
  },
  {
   "cell_type": "markdown",
   "metadata": {},
   "source": [
    "---\n",
    "# REPORT\n",
    "\n",
    "## Visualizing the data for Part A\n",
    "\n",
    "Let's import the libraries"
   ]
  },
  {
   "cell_type": "code",
   "execution_count": 41,
   "metadata": {},
   "outputs": [],
   "source": [
    "import matplotlib.pyplot as plt\n",
    "import seaborn as sns\n",
    "\n",
    "%matplotlib inline"
   ]
  },
  {
   "cell_type": "code",
   "execution_count": 42,
   "metadata": {},
   "outputs": [],
   "source": [
    "# Setting the background style\n",
    "\n",
    "plt.style.use('seaborn-darkgrid')"
   ]
  },
  {
   "cell_type": "markdown",
   "metadata": {},
   "source": [
    "Since the 'Distance flown', 'Cost per Seat per Km' and 'Total Cost' columns are not upto scale, let's modify them."
   ]
  },
  {
   "cell_type": "code",
   "execution_count": 43,
   "metadata": {},
   "outputs": [],
   "source": [
    "# Converting distance from 'Km' to '1000 Km' scale\n",
    "\n",
    "aircraft_info_df.loc[:,'Distance_1000_km'] = aircraft_info_df['Distance_flown'] / 1000"
   ]
  },
  {
   "cell_type": "code",
   "execution_count": 44,
   "metadata": {},
   "outputs": [],
   "source": [
    "# Converting 'Cost/seat/km' from USD to cents\n",
    "\n",
    "aircraft_info_df.loc[:,'Cost/seat/km_cents'] = aircraft_info_df['Cost/seat/km'] * 100"
   ]
  },
  {
   "cell_type": "code",
   "execution_count": 45,
   "metadata": {},
   "outputs": [],
   "source": [
    "# Converting Total costs from USD scale to '1000 USD' scale\n",
    "\n",
    "aircraft_info_df.loc[:,'Total_cost_1000_USD'] = aircraft_info_df['Total_cost'] / 1000"
   ]
  },
  {
   "cell_type": "markdown",
   "metadata": {},
   "source": [
    "### Visualizing the Range Variable by Aircraft Type"
   ]
  },
  {
   "cell_type": "code",
   "execution_count": 46,
   "metadata": {},
   "outputs": [
    {
     "data": {
      "text/plain": [
       "Text(0.5, 1.0, 'Range by Aircraft Type')"
      ]
     },
     "execution_count": 46,
     "metadata": {},
     "output_type": "execute_result"
    },
    {
     "data": {
      "image/png": "[encoded data removed]",
      "text/plain": [
       "<Figure size 648x504 with 1 Axes>"
      ]
     },
     "metadata": {},
     "output_type": "display_data"
    }
   ],
   "source": [
    "plt.rcParams['figure.figsize'] = 9,7\n",
    "sns.barplot(x='Aircraft_Type', y='Range_in_Km', data=aircraft_info_df)\n",
    "plt.xlabel('Aircraft Type', fontsize=15)\n",
    "plt.ylabel('Range (in Km)', fontsize=15)\n",
    "plt.title('Range by Aircraft Type', fontsize=20)"
   ]
  },
  {
   "cell_type": "markdown",
   "metadata": {},
   "source": [
    "### Visualizing the 'Distance Flown' with respect to 'Hours Flown' \n",
    "\n",
    "These parameters are the indicators of the popularity of an aircraft type."
   ]
  },
  {
   "cell_type": "code",
   "execution_count": 47,
   "metadata": {},
   "outputs": [
    {
     "data": {
      "image/png": "[encoded data removed]",
      "text/plain": [
       "<Figure size 864x432 with 2 Axes>"
      ]
     },
     "metadata": {},
     "output_type": "display_data"
    }
   ],
   "source": [
    "f, ax = plt.subplots(1, 2, figsize=(12,6), sharex=True)\n",
    "\n",
    "# Distance Flown\n",
    "\n",
    "p1 = sns.barplot(x='Aircraft_Type', y='Distance_1000_km', data=aircraft_info_df, ax=ax[0])\n",
    "ax[0].set_xlabel('Aircraft Type', fontsize=15)\n",
    "ax[0].set_ylabel('Distance Flown (in 1000 Km)', fontsize=15)\n",
    "ax[0].set_title('Distance Flown by Aircraft Type', fontsize=20)\n",
    "\n",
    "#Hours Flown\n",
    "\n",
    "p2 = sns.barplot(x='Aircraft_Type', y='Total_Hours', data=aircraft_info_df, ax=ax[1])\n",
    "ax[1].set_xlabel('Aircraft Type', fontsize=15)\n",
    "ax[1].set_ylabel('Hours Flown', fontsize=15)\n",
    "ax[1].set_title('Hours Flown by Aircraft Type', fontsize=20)\n",
    "\n",
    "plt.tight_layout()\n",
    "plt.show()"
   ]
  },
  {
   "cell_type": "code",
   "execution_count": 48,
   "metadata": {},
   "outputs": [
    {
     "data": {
      "image/png": "[encoded data removed]",
      "text/plain": [
       "<Figure size 360x360 with 1 Axes>"
      ]
     },
     "metadata": {},
     "output_type": "display_data"
    }
   ],
   "source": [
    "sns.lmplot(x='Total_Hours', y='Distance_1000_km', data=aircraft_info_df)\n",
    "plt.xlabel('Hours Flown', fontsize=12)\n",
    "plt.ylabel('Distance Flown (in 100 KM)', fontsize=12)\n",
    "plt.title('Distance Flown V/s Hours', fontsize=15)\n",
    "\n",
    "plt.show()"
   ]
  },
  {
   "cell_type": "markdown",
   "metadata": {},
   "source": [
    "### Comparing 'Range' with 'Distance Flown' and 'Hours Flown' variables"
   ]
  },
  {
   "cell_type": "code",
   "execution_count": 49,
   "metadata": {},
   "outputs": [
    {
     "data": {
      "image/png": "[encoded data removed]",
      "text/plain": [
       "<Figure size 360x360 with 1 Axes>"
      ]
     },
     "metadata": {},
     "output_type": "display_data"
    }
   ],
   "source": [
    "# Comparison with Distance Flown\n",
    "\n",
    "sns.lmplot(x='Range_in_Km', y='Distance_1000_km', data=aircraft_info_df)\n",
    "plt.xlabel('Range in Km', fontsize=12)\n",
    "plt.ylabel('Distance Flown (in 1000 Km)', fontsize=12)\n",
    "plt.title('Distance V/s Range', fontsize=15)\n",
    "\n",
    "plt.show()"
   ]
  },
  {
   "cell_type": "code",
   "execution_count": 50,
   "metadata": {},
   "outputs": [
    {
     "data": {
      "image/png": "[encoded data removed]",
      "text/plain": [
       "<Figure size 360x360 with 1 Axes>"
      ]
     },
     "metadata": {},
     "output_type": "display_data"
    }
   ],
   "source": [
    "# Comparison with 'Hours Flown'\n",
    "\n",
    "sns.lmplot(x='Range_in_Km', y='Total_Hours', data=aircraft_info_df)\n",
    "plt.xlabel('Range in Km', fontsize=12)\n",
    "plt.ylabel('Hours Flown', fontsize=12)\n",
    "plt.title('Hours Flown V/s Range', fontsize=15)\n",
    "\n",
    "plt.show()"
   ]
  },
  {
   "cell_type": "markdown",
   "metadata": {},
   "source": [
    "The popularity of an aircraft generally increases with Range.\n",
    "\n",
    "#### Now let's look at the 'Total Flying Cost' and the 'Cost / seat / km' variables "
   ]
  },
  {
   "cell_type": "code",
   "execution_count": 51,
   "metadata": {},
   "outputs": [
    {
     "data": {
      "image/png": "[encoded data removed]",
      "text/plain": [
       "<Figure size 576x432 with 1 Axes>"
      ]
     },
     "metadata": {},
     "output_type": "display_data"
    }
   ],
   "source": [
    "plt.rcParams['figure.figsize'] = 8,6\n",
    "sns.barplot(x='Aircraft_Type', y='Total_cost_1000_USD', data=aircraft_info_df)\n",
    "plt.xlabel('Aircraft Type', fontsize=13)\n",
    "plt.ylabel('Total Cost of Flying (in 1000 USD)', fontsize=13)\n",
    "plt.title('Total Flying Cost by Aircraft Type', fontsize=18)\n",
    "\n",
    "plt.show()"
   ]
  },
  {
   "cell_type": "code",
   "execution_count": 52,
   "metadata": {},
   "outputs": [
    {
     "data": {
      "image/png": "[encoded data removed]",
      "text/plain": [
       "<Figure size 576x432 with 1 Axes>"
      ]
     },
     "metadata": {},
     "output_type": "display_data"
    }
   ],
   "source": [
    "sns.barplot(x='Aircraft_Type', y='Cost/seat/km_cents', data=aircraft_info_df)\n",
    "plt.xlabel('Aircraft Type', fontsize=13)\n",
    "plt.ylabel('Cost per Seat per Km Flown (in cents)', fontsize=13)\n",
    "plt.title('Cost/Seat/Km by Aircraft Type', fontsize=18)\n",
    "\n",
    "plt.show()"
   ]
  },
  {
   "cell_type": "markdown",
   "metadata": {},
   "source": [
    "#### Again, let's compare the 'Cost/seat/km' metric with the popularity indicator variables"
   ]
  },
  {
   "cell_type": "code",
   "execution_count": 53,
   "metadata": {},
   "outputs": [
    {
     "data": {
      "image/png": "[encoded data removed]",
      "text/plain": [
       "<Figure size 360x360 with 1 Axes>"
      ]
     },
     "metadata": {},
     "output_type": "display_data"
    }
   ],
   "source": [
    "# With Hours Flown\n",
    "\n",
    "sns.lmplot(x='Cost/seat/km_cents', y='Total_Hours', data=aircraft_info_df)\n",
    "plt.xlabel('Cost per Seat per Km Flown (in cents)', fontsize=12)\n",
    "plt.ylabel('Hours Flown', fontsize=12)\n",
    "plt.title('Hours Flown V/s Cost/Seat/Km', fontsize=15)\n",
    "plt.show()"
   ]
  },
  {
   "cell_type": "code",
   "execution_count": 54,
   "metadata": {},
   "outputs": [
    {
     "data": {
      "image/png": "[encoded data removed]",
      "text/plain": [
       "<Figure size 360x360 with 1 Axes>"
      ]
     },
     "metadata": {},
     "output_type": "display_data"
    }
   ],
   "source": [
    "# With Distance /flown\n",
    "\n",
    "sns.lmplot(x='Cost/seat/km_cents', y='Distance_1000_km', data=aircraft_info_df)\n",
    "plt.xlabel('Cost per Seat per Km Flown (in cents)', fontsize=12)\n",
    "plt.ylabel('Distance Flown (in 1000 Km)', fontsize=12)\n",
    "plt.title('Distance Flown V/s Cost/Seat/Km', fontsize=15)\n",
    "plt.show()"
   ]
  },
  {
   "cell_type": "markdown",
   "metadata": {},
   "source": [
    "#### As this metric increases, the popularity decreases\n",
    "\n",
    "Now let's look at the 'No of seats' variable."
   ]
  },
  {
   "cell_type": "code",
   "execution_count": 55,
   "metadata": {},
   "outputs": [
    {
     "data": {
      "image/png": "[encoded data removed]",
      "text/plain": [
       "<Figure size 576x432 with 1 Axes>"
      ]
     },
     "metadata": {},
     "output_type": "display_data"
    }
   ],
   "source": [
    "sns.barplot(x='Aircraft_Type', y='No_of_seats', data=aircraft_info_df)\n",
    "plt.xlabel('Aircraft Type', fontsize=13)\n",
    "plt.ylabel('No of Seats', fontsize=13)\n",
    "plt.title('No of Seats by Aircraft Type', fontsize=18)\n",
    "\n",
    "plt.show()"
   ]
  },
  {
   "cell_type": "markdown",
   "metadata": {},
   "source": [
    "#### Doing the comparison"
   ]
  },
  {
   "cell_type": "code",
   "execution_count": 56,
   "metadata": {},
   "outputs": [
    {
     "data": {
      "image/png": "[encoded data removed]",
      "text/plain": [
       "<Figure size 360x360 with 1 Axes>"
      ]
     },
     "metadata": {},
     "output_type": "display_data"
    }
   ],
   "source": [
    "# With Distance Flown\n",
    "\n",
    "sns.lmplot(x='No_of_seats', y='Distance_1000_km', data=aircraft_info_df)\n",
    "plt.xlabel('No of Seats', fontsize=12)\n",
    "plt.ylabel('Distance Flown (in 1000 Km)', fontsize=12)\n",
    "plt.title('Distance Flown V/s No of Seats', fontsize=15)\n",
    "plt.show()"
   ]
  },
  {
   "cell_type": "code",
   "execution_count": 57,
   "metadata": {},
   "outputs": [
    {
     "data": {
      "image/png": "[encoded data removed]",
      "text/plain": [
       "<Figure size 360x360 with 1 Axes>"
      ]
     },
     "metadata": {},
     "output_type": "display_data"
    }
   ],
   "source": [
    "# With Hours Flown\n",
    "\n",
    "sns.lmplot(x='No_of_seats', y='Distance_1000_km', data=aircraft_info_df)\n",
    "plt.xlabel('No of Seats', fontsize=12)\n",
    "plt.ylabel('Hours Flown', fontsize=12)\n",
    "plt.title('Hours Flown V/s No of Seats', fontsize=15)\n",
    "plt.show()"
   ]
  },
  {
   "cell_type": "markdown",
   "metadata": {},
   "source": [
    "#### Populatity increased with the no of seats in an aircraft.\n",
    "\n",
    "Hence, the perfect aircraft for a particular route must be a trade-off between low 'Cost/seat/km' and high 'Range' as well as high 'No of seats'."
   ]
  }
 ],
 "metadata": {
  "kernelspec": {
   "display_name": "Python 3",
   "language": "python",
   "name": "python3"
  },
  "language_info": {
   "codemirror_mode": {
    "name": "ipython",
    "version": 3
   },
   "file_extension": ".py",
   "mimetype": "text/x-python",
   "name": "python",
   "nbconvert_exporter": "python",
   "pygments_lexer": "ipython3",
   "version": "3.8.5"
  }
 },
 "nbformat": 4,
 "nbformat_minor": 4
}
